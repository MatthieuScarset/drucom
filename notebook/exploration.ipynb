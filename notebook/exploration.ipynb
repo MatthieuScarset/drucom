{
 "cells": [
  {
   "cell_type": "markdown",
   "id": "aeefc495",
   "metadata": {},
   "source": [
    "# Exploraty Data Analysis"
   ]
  },
  {
   "cell_type": "markdown",
   "id": "547f6c3e",
   "metadata": {},
   "source": [
    "Exploraty Data Analysis (EDA) of the Drupal Community."
   ]
  },
  {
   "cell_type": "markdown",
   "id": "1711de92",
   "metadata": {
    "jp-MarkdownHeadingCollapsed": true
   },
   "source": [
    "## Installation"
   ]
  },
  {
   "cell_type": "markdown",
   "id": "293d0ba4-7152-4fb5-84c4-af21adfc6f0c",
   "metadata": {},
   "source": [
    "As explained in the README file, you should have already fetched the datasets locally. \n",
    "\n",
    "See `../README.md` and `../script/fetch_drupal_data.sh`.\n",
    "\n",
    "<details>\n",
    "    <summary>Click to check data folder structure</summary>\n",
    "    \n",
    "```bash\n",
    "data\n",
    "├── csv\n",
    "│   └── countries.csv\n",
    "└── json\n",
    "    ├── event.json\n",
    "    ├── organization.json\n",
    "    ├── pages_event\n",
    "    │   ├── page_0.json\n",
    "    │   └── page_x.json\n",
    "    ├── pages_organization\n",
    "    │   ├── page_0.json\n",
    "    │   └── page_x.json\n",
    "    ├── pages_user\n",
    "    │   ├── page_0.json\n",
    "    │   └── page_x.json\n",
    "    └── user.json\n",
    "\n",
    "6 directories, XXXX files\n",
    "```\n",
    "</details>\n"
   ]
  },
  {
   "cell_type": "code",
   "execution_count": 1,
   "id": "44818719",
   "metadata": {},
   "outputs": [],
   "source": [
    "import datetime\n",
    "import pandas as pd\n",
    "import matplotlib.pyplot as plt"
   ]
  },
  {
   "cell_type": "markdown",
   "id": "6ea9b0bc",
   "metadata": {},
   "source": [
    "## Users"
   ]
  },
  {
   "cell_type": "markdown",
   "id": "6408192f",
   "metadata": {},
   "source": [
    "We have extracted user data exposed by the Drupal.org (aka _d.o_) REST API [at this endpoint](https://www.drupal.org/api-d7/user.json?sort=uid&direction) and compiled them into on single dataset name `user.json`.\n",
    "\n",
    "This file contains 16 fields for each user, as explained in the cell below."
   ]
  },
  {
   "cell_type": "code",
   "execution_count": null,
   "id": "660bfd40",
   "metadata": {},
   "outputs": [],
   "source": [
    "# Load user data.\n",
    "# This is a large file. Loading can easily take more than to 2 minutes.\n",
    "dtypes = {\n",
    "    \"id\": \"int32\",\n",
    "    \"title\": \"string\",\n",
    "    \"fname\": \"string\",\n",
    "    \"lname\": \"string\",\n",
    "    \"created\": \"int32\",\n",
    "    \"da_membership\": \"string\",\n",
    "    \"slack\": \"string\",\n",
    "    \"timezone\": \"string\",\n",
    "    \"region\": \"string\",\n",
    "    \"mentors\": \"object\",\n",
    "    \"countries\": \"object\",\n",
    "    \"languages\": \"object\",\n",
    "    \"organizations\": \"object\",\n",
    "    \"industries\": \"object\",\n",
    "    \"contributions\": \"object\",\n",
    "    \"events\": \"object\",\n",
    "}\n",
    "\n",
    "df = pd.read_json('../data/json/user.json', dtype=dtypes)"
   ]
  },
  {
   "cell_type": "code",
   "execution_count": 4,
   "id": "e0af7843",
   "metadata": {},
   "outputs": [],
   "source": [
    "# Add formatted registration date.\n",
    "if 'registered_on' not in df.columns:\n",
    "    df['registered_on'] = df['created'].apply(lambda d: datetime.datetime.fromtimestamp(d))"
   ]
  },
  {
   "cell_type": "code",
   "execution_count": 10,
   "id": "6c8634d8",
   "metadata": {},
   "outputs": [],
   "source": [
    "# Cleaning data.\n",
    "df = df.replace({pd.NA: None})\n",
    "\n",
    "# Replace empty arrays with None.\n",
    "for col in df.columns:\n",
    "    if df[col].dtype == 'O':\n",
    "         df[col] = df[col].apply(lambda x: None if (x is None or len(x) == 0) else x)\n"
   ]
  },
  {
   "cell_type": "code",
   "execution_count": 14,
   "id": "aba06080",
   "metadata": {},
   "outputs": [
    {
     "data": {
      "text/plain": [
       "(2093461, 19)"
      ]
     },
     "execution_count": 14,
     "metadata": {},
     "output_type": "execute_result"
    }
   ],
   "source": [
    "df.shape"
   ]
  },
  {
   "cell_type": "code",
   "execution_count": 12,
   "id": "d676d366-9258-4dc9-a5b8-a92a3e2d1d0a",
   "metadata": {
    "scrolled": true
   },
   "outputs": [
    {
     "data": {
      "text/html": [
       "<div>\n",
       "<style scoped>\n",
       "    .dataframe tbody tr th:only-of-type {\n",
       "        vertical-align: middle;\n",
       "    }\n",
       "\n",
       "    .dataframe tbody tr th {\n",
       "        vertical-align: top;\n",
       "    }\n",
       "\n",
       "    .dataframe thead th {\n",
       "        text-align: right;\n",
       "    }\n",
       "</style>\n",
       "<table border=\"1\" class=\"dataframe\">\n",
       "  <thead>\n",
       "    <tr style=\"text-align: right;\">\n",
       "      <th></th>\n",
       "      <th>id</th>\n",
       "      <th>title</th>\n",
       "      <th>fname</th>\n",
       "      <th>lname</th>\n",
       "      <th>created</th>\n",
       "      <th>da_membership</th>\n",
       "      <th>slack</th>\n",
       "      <th>mentors</th>\n",
       "      <th>countries</th>\n",
       "      <th>language</th>\n",
       "      <th>languages</th>\n",
       "      <th>timezone</th>\n",
       "      <th>region</th>\n",
       "      <th>city</th>\n",
       "      <th>organizations</th>\n",
       "      <th>industries</th>\n",
       "      <th>contributions</th>\n",
       "      <th>events</th>\n",
       "      <th>registered_on</th>\n",
       "    </tr>\n",
       "  </thead>\n",
       "  <tbody>\n",
       "    <tr>\n",
       "      <th>0</th>\n",
       "      <td>1</td>\n",
       "      <td>dries</td>\n",
       "      <td>Dries</td>\n",
       "      <td>Buytaert</td>\n",
       "      <td>986038980</td>\n",
       "      <td>Current</td>\n",
       "      <td>None</td>\n",
       "      <td>None</td>\n",
       "      <td>[BE]</td>\n",
       "      <td>None</td>\n",
       "      <td>[Dutch, English]</td>\n",
       "      <td>America/New_York</td>\n",
       "      <td>America</td>\n",
       "      <td>New_York</td>\n",
       "      <td>[434463, 502475, 1291956]</td>\n",
       "      <td>None</td>\n",
       "      <td>None</td>\n",
       "      <td>None</td>\n",
       "      <td>2001-03-31 13:43:00</td>\n",
       "    </tr>\n",
       "    <tr>\n",
       "      <th>1</th>\n",
       "      <td>2</td>\n",
       "      <td>Kjartan</td>\n",
       "      <td>Kjartan</td>\n",
       "      <td>Mannes</td>\n",
       "      <td>986038980</td>\n",
       "      <td>None</td>\n",
       "      <td>None</td>\n",
       "      <td>None</td>\n",
       "      <td>[NO]</td>\n",
       "      <td>None</td>\n",
       "      <td>[English, French, Norwegian Bokmål]</td>\n",
       "      <td>Europe/Oslo</td>\n",
       "      <td>Europe</td>\n",
       "      <td>Oslo</td>\n",
       "      <td>[434465]</td>\n",
       "      <td>None</td>\n",
       "      <td>[patches, modules, issues, drupalorg, document...</td>\n",
       "      <td>[antwerp_2005, brussels_2006, denver_2012, mun...</td>\n",
       "      <td>2001-03-31 13:43:00</td>\n",
       "    </tr>\n",
       "    <tr>\n",
       "      <th>2</th>\n",
       "      <td>3</td>\n",
       "      <td>Drupal</td>\n",
       "      <td>None</td>\n",
       "      <td>None</td>\n",
       "      <td>986038980</td>\n",
       "      <td>None</td>\n",
       "      <td>None</td>\n",
       "      <td>None</td>\n",
       "      <td>None</td>\n",
       "      <td>None</td>\n",
       "      <td>None</td>\n",
       "      <td>None</td>\n",
       "      <td>None</td>\n",
       "      <td>None</td>\n",
       "      <td>None</td>\n",
       "      <td>None</td>\n",
       "      <td>None</td>\n",
       "      <td>None</td>\n",
       "      <td>2001-03-31 13:43:00</td>\n",
       "    </tr>\n",
       "  </tbody>\n",
       "</table>\n",
       "</div>"
      ],
      "text/plain": [
       "   id    title    fname     lname    created da_membership slack mentors  \\\n",
       "0   1    dries    Dries  Buytaert  986038980       Current  None    None   \n",
       "1   2  Kjartan  Kjartan    Mannes  986038980          None  None    None   \n",
       "2   3   Drupal     None      None  986038980          None  None    None   \n",
       "\n",
       "  countries language                            languages          timezone  \\\n",
       "0      [BE]     None                     [Dutch, English]  America/New_York   \n",
       "1      [NO]     None  [English, French, Norwegian Bokmål]       Europe/Oslo   \n",
       "2      None     None                                 None              None   \n",
       "\n",
       "    region      city              organizations industries  \\\n",
       "0  America  New_York  [434463, 502475, 1291956]       None   \n",
       "1   Europe      Oslo                   [434465]       None   \n",
       "2     None      None                       None       None   \n",
       "\n",
       "                                       contributions  \\\n",
       "0                                               None   \n",
       "1  [patches, modules, issues, drupalorg, document...   \n",
       "2                                               None   \n",
       "\n",
       "                                              events       registered_on  \n",
       "0                                               None 2001-03-31 13:43:00  \n",
       "1  [antwerp_2005, brussels_2006, denver_2012, mun... 2001-03-31 13:43:00  \n",
       "2                                               None 2001-03-31 13:43:00  "
      ]
     },
     "execution_count": 12,
     "metadata": {},
     "output_type": "execute_result"
    }
   ],
   "source": [
    "# Display a sample\n",
    "df.head(3)"
   ]
  },
  {
   "cell_type": "code",
   "execution_count": 13,
   "id": "a893efa3",
   "metadata": {},
   "outputs": [],
   "source": [
    "# Save cleaned data.\n",
    "df.to_csv(\"../data/csv/user_data.csv\", index=False)"
   ]
  },
  {
   "cell_type": "markdown",
   "id": "84caced3",
   "metadata": {},
   "source": [
    "##\n",
    "...\n",
    "\n",
    "## Preprocessing\n",
    "\n",
    "..."
   ]
  },
  {
   "cell_type": "code",
   "execution_count": 13,
   "id": "08419fd4",
   "metadata": {},
   "outputs": [
    {
     "name": "stdout",
     "output_type": "stream",
     "text": []
    }
   ],
   "source": [
    "# Get people with mentors.\n",
    "mentored_users = users[users['mentors'].notnull()]\n",
    "mentored_users.sample(1000)\n"
   ]
  },
  {
   "cell_type": "markdown",
   "id": "cad5f2da",
   "metadata": {},
   "source": [
    "### Overview"
   ]
  },
  {
   "cell_type": "markdown",
   "id": "afc48516",
   "metadata": {},
   "source": [
    "Analyse of the `user.json` cleaned data file. \n",
    "\n",
    "It contains approximately 2.1 million lines as of March 23rd, 2025."
   ]
  },
  {
   "cell_type": "code",
   "execution_count": null,
   "id": "020dcbd3",
   "metadata": {},
   "outputs": [
    {
     "name": "stdout",
     "output_type": "stream",
     "text": []
    },
    {
     "name": "stdout",
     "output_type": "stream",
     "text": []
    },
    {
     "name": "stdout",
     "output_type": "stream",
     "text": []
    }
   ],
   "source": [
    "# Shape, columns, and sample of the data.\n",
    "display(users.shape, users.columns, users.sample(5))"
   ]
  },
  {
   "cell_type": "code",
   "execution_count": null,
   "id": "374d8f18",
   "metadata": {},
   "outputs": [],
   "source": [
    "# Data pipeline\n",
    "# get a test set of 1k users.\n",
    "users = users.sample(1000)"
   ]
  },
  {
   "cell_type": "code",
   "execution_count": null,
   "id": "a5076a5b",
   "metadata": {},
   "outputs": [
    {
     "name": "stdout",
     "output_type": "stream",
     "text": []
    },
    {
     "name": "stdout",
     "output_type": "stream",
     "text": []
    }
   ],
   "source": [
    "display(\"Empty values:\", users.isnull().sum())"
   ]
  },
  {
   "cell_type": "code",
   "execution_count": null,
   "id": "2edd3585",
   "metadata": {},
   "outputs": [
    {
     "name": "stdout",
     "output_type": "stream",
     "text": []
    },
    {
     "name": "stdout",
     "output_type": "stream",
     "text": []
    }
   ],
   "source": [
    "slackers = users[~users['slack'].isnull()]\n",
    "display(slackers.shape, slackers.sample(5))"
   ]
  },
  {
   "cell_type": "code",
   "execution_count": null,
   "id": "fb42b615",
   "metadata": {},
   "outputs": [
    {
     "name": "stdout",
     "output_type": "stream",
     "text": []
    }
   ],
   "source": [
    "slackers[slackers['slack'].str.contains('mattgyver')]\n"
   ]
  },
  {
   "cell_type": "code",
   "execution_count": null,
   "id": "4f47a229",
   "metadata": {},
   "outputs": [
    {
     "name": "stdout",
     "output_type": "stream",
     "text": []
    },
    {
     "name": "stdout",
     "output_type": "stream",
     "text": []
    },
    {
     "name": "stdout",
     "output_type": "stream",
     "text": []
    },
    {
     "name": "stdout",
     "output_type": "stream",
     "text": []
    },
    {
     "name": "stdout",
     "output_type": "stream",
     "text": []
    },
    {
     "name": "stdout",
     "output_type": "stream",
     "text": []
    },
    {
     "name": "stdout",
     "output_type": "stream",
     "text": []
    },
    {
     "name": "stdout",
     "output_type": "stream",
     "text": []
    },
    {
     "name": "stdout",
     "output_type": "stream",
     "text": []
    },
    {
     "name": "stdout",
     "output_type": "stream",
     "text": []
    },
    {
     "name": "stdout",
     "output_type": "stream",
     "text": []
    },
    {
     "name": "stdout",
     "output_type": "stream",
     "text": []
    },
    {
     "name": "stdout",
     "output_type": "stream",
     "text": []
    },
    {
     "name": "stdout",
     "output_type": "stream",
     "text": []
    },
    {
     "name": "stdout",
     "output_type": "stream",
     "text": []
    },
    {
     "name": "stdout",
     "output_type": "stream",
     "text": []
    },
    {
     "name": "stdout",
     "output_type": "stream",
     "text": []
    },
    {
     "name": "stdout",
     "output_type": "stream",
     "text": []
    },
    {
     "name": "stdout",
     "output_type": "stream",
     "text": []
    },
    {
     "name": "stdout",
     "output_type": "stream",
     "text": []
    },
    {
     "name": "stdout",
     "output_type": "stream",
     "text": []
    },
    {
     "name": "stdout",
     "output_type": "stream",
     "text": []
    }
   ],
   "source": [
    "# Display count of unique values for interesting columns.\n",
    "for col in ['da_membership', 'language', 'city', 'region']:\n",
    "    display(f\"Column: {col}\", users[col].value_counts())\n",
    "\n",
    "# Display total of each array field with a list of values.\n",
    "from collections import Counter\n",
    "\n",
    "totals = {}\n",
    "for col in users.columns:\n",
    "    if users[col].dtype == 'O' and str(col) not in ['da_membership', 'language', 'city', 'region']:\n",
    "        counts = Counter()\n",
    "        users[col].dropna().apply(lambda x: counts.update(x))\n",
    "        sorted_counts = counts.most_common()\n",
    "        totals[col] = sorted_counts\n",
    "\n",
    "for i, col in enumerate(totals):\n",
    "    display(f\"Column: {col}\", totals[col])"
   ]
  },
  {
   "cell_type": "markdown",
   "id": "6006fa68",
   "metadata": {},
   "source": [
    "### Cleaning\n",
    "\n",
    "There is a lot of empty values in this dataset. Let's try to clean it!"
   ]
  },
  {
   "cell_type": "code",
   "execution_count": null,
   "id": "059657ae",
   "metadata": {},
   "outputs": [],
   "source": [
    "# Identify SPAM users.\n",
    "# There are certainly **not** 2 million active users on *d.o*."
   ]
  },
  {
   "cell_type": "markdown",
   "id": "dd15f483",
   "metadata": {},
   "source": [
    "### Users analysis\n",
    "\n",
    "...\n",
    "\n",
    "#### Assumptions\n",
    "\n",
    "#### Questions"
   ]
  },
  {
   "cell_type": "code",
   "execution_count": null,
   "id": "8fce445f",
   "metadata": {},
   "outputs": [
    {
     "name": "stdout",
     "output_type": "stream",
     "text": []
    }
   ],
   "source": [
    "# User registration.\n",
    "first_user = users.sort_values('registered_on').iloc[0]\n",
    "display(f\"First user registered: ({first_user.id}) {first_user.title} registered on: {first_user.registered_on}\")\n",
    "\n",
    "# Number of users registered on each day.\n",
    "# Number of users registered on each month.\n",
    "# Number of users registered on each year.\n",
    "# Number of users registered on each year."
   ]
  },
  {
   "cell_type": "markdown",
   "id": "eb215088",
   "metadata": {},
   "source": [
    "## Geographical distribution\n",
    "\n",
    "Exploration of the distribution of the Drupal community on the planet."
   ]
  },
  {
   "cell_type": "code",
   "execution_count": null,
   "id": "6f0aa575",
   "metadata": {},
   "outputs": [],
   "source": [
    "# Plot region in bar\n",
    "# Scatter cities on a map?"
   ]
  },
  {
   "cell_type": "markdown",
   "id": "e20c37ac",
   "metadata": {},
   "source": [
    "## Expertises\n",
    "\n",
    "Analyze **expertises** of the users community.\n",
    "\n",
    "* Are certain professional sectors over-represented?\n",
    "* Are there regions of the world where certain areas of expertise are favored?"
   ]
  },
  {
   "cell_type": "code",
   "execution_count": null,
   "id": "2c292a83",
   "metadata": {},
   "outputs": [],
   "source": [
    "# Group by `field_industries_worked_in` and histplot user counts\n",
    "# Segment by `field_country` "
   ]
  },
  {
   "cell_type": "markdown",
   "id": "e8d36a9f",
   "metadata": {},
   "source": [
    "## Mentors and mentees\n",
    "\n",
    "Exploration of the mentorship within the Drupal community."
   ]
  }
 ],
 "metadata": {
  "kernelspec": {
   "display_name": "drucom",
   "language": "python",
   "name": "python3"
  },
  "language_info": {
   "codemirror_mode": {
    "name": "ipython",
    "version": 3
   },
   "file_extension": ".py",
   "mimetype": "text/x-python",
   "name": "python",
   "nbconvert_exporter": "python",
   "pygments_lexer": "ipython3",
   "version": "3.10.6"
  }
 },
 "nbformat": 4,
 "nbformat_minor": 5
}
