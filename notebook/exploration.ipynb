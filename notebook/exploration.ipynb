{
 "cells": [
  {
   "cell_type": "markdown",
   "id": "aeefc495",
   "metadata": {},
   "source": [
    "# Exploraty Data Analysis"
   ]
  },
  {
   "cell_type": "markdown",
   "id": "547f6c3e",
   "metadata": {},
   "source": [
    "## Getting started"
   ]
  },
  {
   "cell_type": "markdown",
   "id": "b8fc09f7",
   "metadata": {},
   "source": [
    "Exploration of our data about the Drupal Community."
   ]
  },
  {
   "cell_type": "code",
   "execution_count": null,
   "id": "96287105",
   "metadata": {},
   "outputs": [],
   "source": [
    "import pandas as pd\n",
    "import matplotlib.pyplot as plt\n"
   ]
  },
  {
   "cell_type": "code",
   "execution_count": null,
   "id": "12f7a3bd",
   "metadata": {},
   "outputs": [],
   "source": [
    "# 📑 Load datasets.\n",
    "data = {\n",
    "    'users': pd.read_parquet('../data/user.parquet'),\n",
    "    'companies': pd.read_parquet('../data/organization.parquet'),\n",
    "    'events': pd.read_parquet('../data/event.parquet'),\n",
    "    'releases': pd.read_parquet('../data/release.parquet'),\n",
    "}\n"
   ]
  },
  {
   "cell_type": "code",
   "execution_count": null,
   "id": "fe5a56bb",
   "metadata": {},
   "outputs": [],
   "source": [
    "# Keep original values untouched.\n",
    "users = data['users'].copy()\n",
    "companies = data['companies'].copy()\n",
    "events = data['events'].copy()\n",
    "drupal = data['releases'].copy()\n"
   ]
  },
  {
   "cell_type": "code",
   "execution_count": null,
   "id": "087d3bb9",
   "metadata": {},
   "outputs": [],
   "source": [
    "# 📊 Merge comments with users.\n",
    "comments = pd.read_parquet('../data/comment.parquet')\n",
    "comments.rename(columns={'total': 'total_comments'}, inplace=True)\n",
    "users.rename(columns={'id': 'uid'}, inplace=True)\n",
    "if 'total_comments' not in users.columns:\n",
    "    users = pd.merge(users, comments, on='uid', how='left')\n"
   ]
  },
  {
   "cell_type": "markdown",
   "id": "6ea9b0bc",
   "metadata": {},
   "source": [
    "## Overview"
   ]
  },
  {
   "cell_type": "markdown",
   "id": "e7e4c767",
   "metadata": {},
   "source": [
    "### Discovering datasets"
   ]
  },
  {
   "cell_type": "markdown",
   "id": "0d9ee165",
   "metadata": {},
   "source": [
    "We fetched JSON data from [Drupal.org](https://www.drupal.org/api-d7) and convert the\n",
    "results to parquet files.\n",
    "\n",
    "Let's try to get a sense of what we have available."
   ]
  },
  {
   "cell_type": "code",
   "execution_count": null,
   "id": "cac57cf9",
   "metadata": {},
   "outputs": [
    {
     "data": {
      "text/plain": [
       "'users: 2093637 rows and 18 columns'"
      ]
     },
     "metadata": {},
     "output_type": "display_data"
    },
    {
     "data": {
      "text/html": [
       "<div>\n",
       "<style scoped>\n",
       "    .dataframe tbody tr th:only-of-type {\n",
       "        vertical-align: middle;\n",
       "    }\n",
       "\n",
       "    .dataframe tbody tr th {\n",
       "        vertical-align: top;\n",
       "    }\n",
       "\n",
       "    .dataframe thead th {\n",
       "        text-align: right;\n",
       "    }\n",
       "</style>\n",
       "<table border=\"1\" class=\"dataframe\">\n",
       "  <thead>\n",
       "    <tr style=\"text-align: right;\">\n",
       "      <th></th>\n",
       "      <th>id</th>\n",
       "      <th>title</th>\n",
       "      <th>fname</th>\n",
       "      <th>lname</th>\n",
       "      <th>created</th>\n",
       "      <th>da_membership</th>\n",
       "      <th>slack</th>\n",
       "      <th>mentors</th>\n",
       "      <th>countries</th>\n",
       "      <th>language</th>\n",
       "      <th>languages</th>\n",
       "      <th>timezone</th>\n",
       "      <th>region</th>\n",
       "      <th>city</th>\n",
       "      <th>organizations</th>\n",
       "      <th>industries</th>\n",
       "      <th>contributions</th>\n",
       "      <th>events</th>\n",
       "    </tr>\n",
       "  </thead>\n",
       "  <tbody>\n",
       "    <tr>\n",
       "      <th>917899</th>\n",
       "      <td>1474748</td>\n",
       "      <td>lo4gst3dzmx8ans</td>\n",
       "      <td>&lt;NA&gt;</td>\n",
       "      <td>&lt;NA&gt;</td>\n",
       "      <td>1313174560</td>\n",
       "      <td>&lt;NA&gt;</td>\n",
       "      <td>&lt;NA&gt;</td>\n",
       "      <td>[]</td>\n",
       "      <td>[]</td>\n",
       "      <td>None</td>\n",
       "      <td>[]</td>\n",
       "      <td>&lt;NA&gt;</td>\n",
       "      <td>&lt;NA&gt;</td>\n",
       "      <td>None</td>\n",
       "      <td>[]</td>\n",
       "      <td>None</td>\n",
       "      <td>[]</td>\n",
       "      <td>[]</td>\n",
       "    </tr>\n",
       "  </tbody>\n",
       "</table>\n",
       "</div>"
      ],
      "text/plain": [
       "             id            title fname lname     created da_membership slack  \\\n",
       "917899  1474748  lo4gst3dzmx8ans  <NA>  <NA>  1313174560          <NA>  <NA>   \n",
       "\n",
       "       mentors countries language languages timezone region  city  \\\n",
       "917899      []        []     None        []     <NA>   <NA>  None   \n",
       "\n",
       "       organizations industries contributions events  \n",
       "917899            []       None            []     []  "
      ]
     },
     "metadata": {},
     "output_type": "display_data"
    },
    {
     "data": {
      "text/plain": [
       "id                        int32\n",
       "title            string[python]\n",
       "fname            string[python]\n",
       "lname            string[python]\n",
       "created                   int32\n",
       "da_membership    string[python]\n",
       "slack            string[python]\n",
       "mentors                  object\n",
       "countries                object\n",
       "language                 object\n",
       "languages                object\n",
       "timezone         string[python]\n",
       "region           string[python]\n",
       "city                     object\n",
       "organizations            object\n",
       "industries               object\n",
       "contributions            object\n",
       "events                   object\n",
       "dtype: object"
      ]
     },
     "metadata": {},
     "output_type": "display_data"
    },
    {
     "data": {
      "text/plain": [
       "'companies: 5071 rows and 8 columns'"
      ]
     },
     "metadata": {},
     "output_type": "display_data"
    },
    {
     "data": {
      "text/html": [
       "<div>\n",
       "<style scoped>\n",
       "    .dataframe tbody tr th:only-of-type {\n",
       "        vertical-align: middle;\n",
       "    }\n",
       "\n",
       "    .dataframe tbody tr th {\n",
       "        vertical-align: top;\n",
       "    }\n",
       "\n",
       "    .dataframe thead th {\n",
       "        text-align: right;\n",
       "    }\n",
       "</style>\n",
       "<table border=\"1\" class=\"dataframe\">\n",
       "  <thead>\n",
       "    <tr style=\"text-align: right;\">\n",
       "      <th></th>\n",
       "      <th>id</th>\n",
       "      <th>title</th>\n",
       "      <th>created</th>\n",
       "      <th>changed</th>\n",
       "      <th>author</th>\n",
       "      <th>url</th>\n",
       "      <th>budget</th>\n",
       "      <th>headquarters</th>\n",
       "    </tr>\n",
       "  </thead>\n",
       "  <tbody>\n",
       "    <tr>\n",
       "      <th>3705</th>\n",
       "      <td>3062991</td>\n",
       "      <td>WeAreBrain</td>\n",
       "      <td>1561025813</td>\n",
       "      <td>1704863161</td>\n",
       "      <td>2758291.0</td>\n",
       "      <td>https://www.wearebrain.com</td>\n",
       "      <td>None</td>\n",
       "      <td>Amsterdam, Kyiv, Cape Town, Lausanne, Marseille</td>\n",
       "    </tr>\n",
       "  </tbody>\n",
       "</table>\n",
       "</div>"
      ],
      "text/plain": [
       "           id       title     created     changed     author  \\\n",
       "3705  3062991  WeAreBrain  1561025813  1704863161  2758291.0   \n",
       "\n",
       "                             url budget  \\\n",
       "3705  https://www.wearebrain.com   None   \n",
       "\n",
       "                                         headquarters  \n",
       "3705  Amsterdam, Kyiv, Cape Town, Lausanne, Marseille  "
      ]
     },
     "metadata": {},
     "output_type": "display_data"
    },
    {
     "data": {
      "text/plain": [
       "id                       int32\n",
       "title           string[python]\n",
       "created                  int32\n",
       "changed                  int64\n",
       "author                 float64\n",
       "url                     object\n",
       "budget                  object\n",
       "headquarters            object\n",
       "dtype: object"
      ]
     },
     "metadata": {},
     "output_type": "display_data"
    },
    {
     "data": {
      "text/plain": [
       "'events: 1234 rows and 14 columns'"
      ]
     },
     "metadata": {},
     "output_type": "display_data"
    },
    {
     "data": {
      "text/html": [
       "<div>\n",
       "<style scoped>\n",
       "    .dataframe tbody tr th:only-of-type {\n",
       "        vertical-align: middle;\n",
       "    }\n",
       "\n",
       "    .dataframe tbody tr th {\n",
       "        vertical-align: top;\n",
       "    }\n",
       "\n",
       "    .dataframe thead th {\n",
       "        text-align: right;\n",
       "    }\n",
       "</style>\n",
       "<table border=\"1\" class=\"dataframe\">\n",
       "  <thead>\n",
       "    <tr style=\"text-align: right;\">\n",
       "      <th></th>\n",
       "      <th>id</th>\n",
       "      <th>title</th>\n",
       "      <th>from</th>\n",
       "      <th>to</th>\n",
       "      <th>duration</th>\n",
       "      <th>event_type</th>\n",
       "      <th>event_format</th>\n",
       "      <th>author</th>\n",
       "      <th>speakers</th>\n",
       "      <th>sponsors</th>\n",
       "      <th>volunteers</th>\n",
       "      <th>organizers</th>\n",
       "      <th>city</th>\n",
       "      <th>country</th>\n",
       "    </tr>\n",
       "  </thead>\n",
       "  <tbody>\n",
       "    <tr>\n",
       "      <th>898</th>\n",
       "      <td>3460599</td>\n",
       "      <td>Drupal Austria Countryside Meetup</td>\n",
       "      <td>1720375200</td>\n",
       "      <td>1720375200</td>\n",
       "      <td>0</td>\n",
       "      <td>localmeetup</td>\n",
       "      <td>in_person</td>\n",
       "      <td>80801.0</td>\n",
       "      <td>[]</td>\n",
       "      <td>[]</td>\n",
       "      <td>[80801]</td>\n",
       "      <td>[219000]</td>\n",
       "      <td>Tulln an der Donau</td>\n",
       "      <td>AT</td>\n",
       "    </tr>\n",
       "  </tbody>\n",
       "</table>\n",
       "</div>"
      ],
      "text/plain": [
       "          id                              title        from          to  \\\n",
       "898  3460599  Drupal Austria Countryside Meetup  1720375200  1720375200   \n",
       "\n",
       "     duration   event_type event_format   author speakers sponsors volunteers  \\\n",
       "898         0  localmeetup    in_person  80801.0       []       []    [80801]   \n",
       "\n",
       "    organizers                city country  \n",
       "898   [219000]  Tulln an der Donau      AT  "
      ]
     },
     "metadata": {},
     "output_type": "display_data"
    },
    {
     "data": {
      "text/plain": [
       "id                       int32\n",
       "title           string[python]\n",
       "from                     int64\n",
       "to                       int64\n",
       "duration                 int64\n",
       "event_type              object\n",
       "event_format            object\n",
       "author                 float64\n",
       "speakers                object\n",
       "sponsors                object\n",
       "volunteers              object\n",
       "organizers              object\n",
       "city                    object\n",
       "country                 object\n",
       "dtype: object"
      ]
     },
     "metadata": {},
     "output_type": "display_data"
    }
   ],
   "source": [
    "for name in data.keys():\n",
    "    df = data[name]\n",
    "    display(f'{name}: {df.shape[0]} rows and {len(df.columns)} columns')\n",
    "    display(df.sample(1))\n",
    "    display(df.dtypes)\n"
   ]
  },
  {
   "cell_type": "markdown",
   "id": "0ee98b72",
   "metadata": {},
   "source": [
    "### Table relationships"
   ]
  },
  {
   "cell_type": "markdown",
   "id": "135c5e9b",
   "metadata": {},
   "source": [
    "The `user` dataset is obviously central to the whole set of data. \n",
    "\n",
    "We can make the following relationships:\n",
    "\n",
    "* Get **information about companies** a user is/was involved with\n",
    "\n",
    "`data.users['organizations'][] >----< data.companies['id']`\n",
    "\n",
    "* Get the details of **events a user has attended**\n",
    "\n",
    "`users['id'] |----< events['uid', 'total']`\n"
   ]
  },
  {
   "cell_type": "markdown",
   "id": "3f8076e1",
   "metadata": {},
   "source": [
    "## Dimensions"
   ]
  },
  {
   "cell_type": "markdown",
   "id": "869229ce",
   "metadata": {},
   "source": [
    "Let's build a few useful dimensions to help exploration."
   ]
  },
  {
   "cell_type": "code",
   "execution_count": null,
   "id": "99a702c5",
   "metadata": {},
   "outputs": [],
   "source": [
    "# Build the dataframe of organizations members.\n",
    "# Users and organizations are linked by the `users.organizations` and `companies.id` columns\n",
    "# @todo Fix wrong organization IDs in the users table 😨.\n",
    "# @see https://github.com/MatthieuScarset/drucom/issues/1\n",
    "users.drop(columns=['organizations'], inplace=True)\n"
   ]
  },
  {
   "cell_type": "markdown",
   "id": "69c20d68",
   "metadata": {},
   "source": [
    "## Data preprocessing \n"
   ]
  },
  {
   "cell_type": "markdown",
   "id": "ffbaf2f8",
   "metadata": {},
   "source": [
    "### Cleaning\n",
    "\n",
    "There are a few datetime fields we can normalize: \n",
    "\n",
    "* `user.created`\n",
    "* `event.from`, `event.to`\n",
    "* `companies.created`, `companies.changed`"
   ]
  },
  {
   "cell_type": "code",
   "execution_count": null,
   "metadata": {},
   "outputs": [],
   "source": [
    "users = data['users'].copy()\n",
    "events = data['events'].copy()\n",
    "\n",
    "users['created'] = pd.to_datetime(users['created'], unit='s')\n",
    "events['from'] = pd.to_datetime(events['from'], unit='s')\n",
    "events['to'] = pd.to_datetime(events['to'], unit='s')\n",
    "companies['created'] = pd.to_datetime(companies['created'], unit='s')\n",
    "companies['changed'] = pd.to_datetime(companies['changed'], unit='s')\n"
   ]
  },
  {
   "cell_type": "markdown",
   "id": "dac6e932",
   "metadata": {},
   "source": [
    "There is a lot of empty values."
   ]
  },
  {
   "cell_type": "code",
   "execution_count": null,
   "id": "e33f6d2f",
   "metadata": {},
   "outputs": [
    {
     "data": {
      "text/plain": [
       "'--- Sums ---'"
      ]
     },
     "metadata": {},
     "output_type": "display_data"
    },
    {
     "data": {
      "text/plain": [
       "fname            1609139\n",
       "lname            1620054\n",
       "da_membership    2090968\n",
       "slack            2090244\n",
       "language         2080667\n",
       "timezone         1425587\n",
       "region           1426273\n",
       "city             1426273\n",
       "industries       2093637\n",
       "dtype: int64"
      ]
     },
     "metadata": {},
     "output_type": "display_data"
    },
    {
     "data": {
      "text/plain": [
       "'--- Shares (%) --'"
      ]
     },
     "metadata": {},
     "output_type": "display_data"
    },
    {
     "data": {
      "text/plain": [
       "fname             76.858548\n",
       "lname             77.379890\n",
       "da_membership     99.872518\n",
       "slack             99.837938\n",
       "language          99.380504\n",
       "timezone          68.091412\n",
       "region            68.124178\n",
       "city              68.124178\n",
       "industries       100.000000\n",
       "dtype: float64"
      ]
     },
     "metadata": {},
     "output_type": "display_data"
    }
   ],
   "source": [
    "missing_values = users.isnull().sum()\n",
    "missing_values = missing_values[missing_values > 0]\n",
    "display('--- Sums ---', missing_values)\n",
    "display('--- Shares (%) --', missing_values/len(users) * 100)\n"
   ]
  },
  {
   "cell_type": "code",
   "execution_count": null,
   "id": "6e8a8976",
   "metadata": {},
   "outputs": [
    {
     "data": {
      "text/plain": [
       "Text(0.5, 1.0, 'Missing values in users dataframe')"
      ]
     },
     "execution_count": 26,
     "metadata": {},
     "output_type": "execute_result"
    },
    {
     "data": {
      "image/png": "[encoded data removed]",
      "text/plain": [
       "<Figure size 800x300 with 1 Axes>"
      ]
     },
     "metadata": {},
     "output_type": "display_data"
    }
   ],
   "source": [
    "# Plot the missing values.\n",
    "plt.figure(figsize=(8, 3))\n",
    "shares = missing_values / len(users) * 100\n",
    "shares.sort_values(ascending=True).plot(kind='bar')\n",
    "# Rotate the x-axis labels for better readability.\n",
    "plt.xticks(rotation=45)\n",
    "plt.xlabel('Columns')\n",
    "plt.ylabel('Missing values (%)')\n",
    "plt.title('Missing values in users dataframe')\n"
   ]
  },
  {
   "cell_type": "markdown",
   "id": "35b33e6d",
   "metadata": {},
   "source": [
    "Drop useless columns: \n",
    "\n",
    "* `industries` column is totally empty\n",
    "* `timezone` was already splitted into `region` and `city` during fetching\n"
   ]
  },
  {
   "cell_type": "code",
   "execution_count": null,
   "id": "60930a55",
   "metadata": {},
   "outputs": [],
   "source": [
    "for col in ['timezone', 'industries']:\n",
    "    if col in users.columns:\n",
    "        users.drop(columns=[col], inplace=True)\n"
   ]
  },
  {
   "cell_type": "markdown",
   "id": "6c7fb4e7",
   "metadata": {},
   "source": [
    "It strikes us that first and last name columns are almost empty (e.g. `fname`, `lname`) with 80% of missing values, rougthly 1.7 millions rows out of 2.1 millions in total. It is suprising such *basic information* is missing from a dataset about a *social community*. We cannot know for sure but it is probably a combination of reasons:\n",
    "\n",
    "1. 👨‍💻 The community is historically a developer community who tend to use pseudo before real names\n",
    "2. 🪬 Users registered on Drupal.org cares about some sort of privacy\n",
    "3. 🐖 Many are SPAM accounts\n",
    "\n",
    "Let's classify people with no names as `anonymous` for the rest of the exploration."
   ]
  },
  {
   "cell_type": "code",
   "execution_count": null,
   "id": "f797b8ee",
   "metadata": {},
   "outputs": [
    {
     "data": {
      "text/plain": [
       "Text(0, 0, '76.5%')"
      ]
     },
     "execution_count": 47,
     "metadata": {},
     "output_type": "execute_result"
    },
    {
     "data": {
      "image/png": "[encoded data removed]",
      "text/plain": [
       "<Figure size 800x300 with 1 Axes>"
      ]
     },
     "metadata": {},
     "output_type": "display_data"
    }
   ],
   "source": [
    "users['anonymous'] = users['fname'].isnull() & users['lname'].isnull()\n",
    "\n",
    "# Show the percentage of \"Anonymous\" users.\n",
    "plt.figure(figsize=(8, 3))\n",
    "users.anonymous.value_counts().plot(\n",
    "    kind='pie', legend=False, title='Anonymous users')\n",
    "plt.xlabel('')\n",
    "plt.ylabel('')\n",
    "plt.title('\"Anonymous\" users')\n",
    "plt.text(\n",
    "    0, 0, f'{users.anonymous.value_counts()[True] / len(users) * 100:.1f}%', ha='center', va='center', fontsize=20)\n"
   ]
  },
  {
   "cell_type": "markdown",
   "id": "ba544920",
   "metadata": {},
   "source": [
    "## Exploratory Data Analysis"
   ]
  },
  {
   "cell_type": "markdown",
   "id": "d9fdcf3b",
   "metadata": {},
   "source": [
    "### To dos\n",
    "\n",
    "* User profiling"
   ]
  },
  {
   "cell_type": "markdown",
   "id": "c35e8400",
   "metadata": {},
   "source": [
    "### Trends\n",
    "\n",
    "Our dataset contains very few indicators of evolutions in time except the following:\n",
    "\n",
    "* `users.created`: users registration date on *d.o*\n",
    "* `companies.created`: date of first publication of an organization on *d.o*\n",
    "* `companies.changed`: latest update of an organization\n",
    "* `events.from`: date of events published on *d.o*"
   ]
  },
  {
   "cell_type": "code",
   "execution_count": null,
   "metadata": {},
   "outputs": [
    {
     "data": {
      "text/plain": [
       "Text(0.5, 1.0, 'User registrations per year')"
      ]
     },
     "execution_count": 48,
     "metadata": {},
     "output_type": "execute_result"
    },
    {
     "data": {
      "image/png": "[encoded data removed]",
      "text/plain": [
       "<Figure size 800x200 with 1 Axes>"
      ]
     },
     "metadata": {},
     "output_type": "display_data"
    }
   ],
   "source": [
    "plt.figure(figsize=(8, 2))\n",
    "users['created'].dt.year.value_counts(\n",
    ").sort_index().plot(kind=\"bar\", legend=False)\n",
    "plt.xlabel(\"Year\")\n",
    "plt.ylabel(\"Accounts\")\n",
    "plt.grid(axis='y')\n",
    "plt.title(\"User registrations per year\")\n"
   ]
  },
  {
   "cell_type": "markdown",
   "metadata": {},
   "source": [
    "The only numerical data we can *describe* in the registration date."
   ]
  },
  {
   "cell_type": "code",
   "execution_count": null,
   "metadata": {},
   "outputs": [
    {
     "data": {
      "text/plain": [
       "count                          2093637\n",
       "mean     2012-08-26 19:35:06.475002624\n",
       "min                2001-03-31 11:43:00\n",
       "25%                2009-11-06 15:05:58\n",
       "50%                2012-01-10 20:21:42\n",
       "75%                2014-06-21 14:46:53\n",
       "max                2025-03-26 19:30:33\n",
       "Name: created, dtype: object"
      ]
     },
     "execution_count": 39,
     "metadata": {},
     "output_type": "execute_result"
    }
   ],
   "source": [
    "users['created'].describe()\n"
   ]
  }
 ],
 "metadata": {
  "kernelspec": {
   "display_name": "drucom",
   "language": "python",
   "name": "python3"
  },
  "language_info": {
   "codemirror_mode": {
    "name": "ipython",
    "version": 3
   },
   "file_extension": ".py",
   "mimetype": "text/x-python",
   "name": "python",
   "nbconvert_exporter": "python",
   "pygments_lexer": "ipython3",
   "version": "3.10.6"
  }
 },
 "nbformat": 4,
 "nbformat_minor": 5
}
