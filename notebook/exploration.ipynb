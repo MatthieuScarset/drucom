{
 "cells": [
  {
   "cell_type": "markdown",
   "id": "aeefc495",
   "metadata": {},
   "source": [
    "# Exploraty Data Analysis"
   ]
  },
  {
   "cell_type": "markdown",
   "id": "547f6c3e",
   "metadata": {},
   "source": [
    "Exploraty Data Analysis (EDA) of the Drupal Community."
   ]
  },
  {
   "cell_type": "markdown",
   "id": "1711de92",
   "metadata": {
    "jp-MarkdownHeadingCollapsed": true
   },
   "source": [
    "## Installation"
   ]
  },
  {
   "cell_type": "markdown",
   "id": "293d0ba4-7152-4fb5-84c4-af21adfc6f0c",
   "metadata": {},
   "source": [
    "### Overview \n",
    "\n",
    "As explained in the README file, you should have already fetched the datasets locally. \n",
    "\n",
    "See `../README.md` and `../script/fetch_drupal_data.sh`.\n",
    "\n",
    "<details>\n",
    "    <summary>Click to check data folder structure</summary>\n",
    "    \n",
    "```bash\n",
    "data\n",
    "├── csv\n",
    "│   └── countries.csv\n",
    "└── json\n",
    "    ├── pages_event\n",
    "    │   ├── page_0.json\n",
    "    │   └── page_x.json\n",
    "    ├── pages_organization\n",
    "    │   ├── page_0.json\n",
    "    │   └── page_x.json\n",
    "    ├── pages_user\n",
    "    │   ├── page_0.json\n",
    "    │   └── page_x.json\n",
    "```\n",
    "</details>\n"
   ]
  },
  {
   "cell_type": "markdown",
   "id": "eb2810b6",
   "metadata": {},
   "source": [
    "### Convertion\n",
    "\n",
    "As of today (March 23rd, 2025), there are approximately 42k pages exposed by the Drupal.org's REST API [at this endpoint](https://www.drupal.org/api-d7/user.json?sort=uid&direction).\n",
    "\n",
    "Each page contains a list of 50 users with 16 fields, summing almost 2.1 million users.\n",
    "\n",
    "It is too much data to simply load into Pandas as JSON. \n",
    "\n",
    "Let's convert it to a more efficient format which is `parquet`.\n",
    "\n",
    "**Warning**: the cell below can takes a long time to runs (last run too 8.5 minutes)."
   ]
  },
  {
   "cell_type": "code",
   "execution_count": null,
   "id": "44818719",
   "metadata": {},
   "outputs": [
    {
     "ename": "OSError",
     "evalue": "Cannot save file into a non-existent directory: '../data/csv'",
     "output_type": "error",
     "traceback": [
      "\u001b[0;31m---------------------------------------------------------------------------\u001b[0m",
      "\u001b[0;31mOSError\u001b[0m                                   Traceback (most recent call last)",
      "Cell \u001b[0;32mIn[37], line 52\u001b[0m\n\u001b[1;32m     49\u001b[0m merged_df \u001b[38;5;241m=\u001b[39m pd\u001b[38;5;241m.\u001b[39mconcat(dataframes, ignore_index\u001b[38;5;241m=\u001b[39m\u001b[38;5;28;01mTrue\u001b[39;00m)\n\u001b[1;32m     51\u001b[0m \u001b[38;5;66;03m# Save the merged dataframe as a parquet file\u001b[39;00m\n\u001b[0;32m---> 52\u001b[0m \u001b[43mmerged_df\u001b[49m\u001b[38;5;241;43m.\u001b[39;49m\u001b[43mto_parquet\u001b[49m\u001b[43m(\u001b[49m\u001b[43moutput_file\u001b[49m\u001b[43m,\u001b[49m\u001b[43m \u001b[49m\u001b[43mindex\u001b[49m\u001b[38;5;241;43m=\u001b[39;49m\u001b[38;5;28;43;01mFalse\u001b[39;49;00m\u001b[43m)\u001b[49m\n\u001b[1;32m     54\u001b[0m \u001b[38;5;28mprint\u001b[39m(\u001b[38;5;124mf\u001b[39m\u001b[38;5;124m\"\u001b[39m\u001b[38;5;124mData successfully merged and saved to \u001b[39m\u001b[38;5;132;01m{\u001b[39;00moutput_file\u001b[38;5;132;01m}\u001b[39;00m\u001b[38;5;124m\"\u001b[39m)\n",
      "File \u001b[0;32m~/.pyenv/versions/drucom/lib/python3.10/site-packages/pandas/util/_decorators.py:333\u001b[0m, in \u001b[0;36mdeprecate_nonkeyword_arguments.<locals>.decorate.<locals>.wrapper\u001b[0;34m(*args, **kwargs)\u001b[0m\n\u001b[1;32m    327\u001b[0m \u001b[38;5;28;01mif\u001b[39;00m \u001b[38;5;28mlen\u001b[39m(args) \u001b[38;5;241m>\u001b[39m num_allow_args:\n\u001b[1;32m    328\u001b[0m     warnings\u001b[38;5;241m.\u001b[39mwarn(\n\u001b[1;32m    329\u001b[0m         msg\u001b[38;5;241m.\u001b[39mformat(arguments\u001b[38;5;241m=\u001b[39m_format_argument_list(allow_args)),\n\u001b[1;32m    330\u001b[0m         \u001b[38;5;167;01mFutureWarning\u001b[39;00m,\n\u001b[1;32m    331\u001b[0m         stacklevel\u001b[38;5;241m=\u001b[39mfind_stack_level(),\n\u001b[1;32m    332\u001b[0m     )\n\u001b[0;32m--> 333\u001b[0m \u001b[38;5;28;01mreturn\u001b[39;00m \u001b[43mfunc\u001b[49m\u001b[43m(\u001b[49m\u001b[38;5;241;43m*\u001b[39;49m\u001b[43margs\u001b[49m\u001b[43m,\u001b[49m\u001b[43m \u001b[49m\u001b[38;5;241;43m*\u001b[39;49m\u001b[38;5;241;43m*\u001b[39;49m\u001b[43mkwargs\u001b[49m\u001b[43m)\u001b[49m\n",
      "File \u001b[0;32m~/.pyenv/versions/drucom/lib/python3.10/site-packages/pandas/core/frame.py:3113\u001b[0m, in \u001b[0;36mDataFrame.to_parquet\u001b[0;34m(self, path, engine, compression, index, partition_cols, storage_options, **kwargs)\u001b[0m\n\u001b[1;32m   3032\u001b[0m \u001b[38;5;250m\u001b[39m\u001b[38;5;124;03m\"\"\"\u001b[39;00m\n\u001b[1;32m   3033\u001b[0m \u001b[38;5;124;03mWrite a DataFrame to the binary parquet format.\u001b[39;00m\n\u001b[1;32m   3034\u001b[0m \n\u001b[0;32m   (...)\u001b[0m\n\u001b[1;32m   3109\u001b[0m \u001b[38;5;124;03m>>> content = f.read()\u001b[39;00m\n\u001b[1;32m   3110\u001b[0m \u001b[38;5;124;03m\"\"\"\u001b[39;00m\n\u001b[1;32m   3111\u001b[0m \u001b[38;5;28;01mfrom\u001b[39;00m\u001b[38;5;250m \u001b[39m\u001b[38;5;21;01mpandas\u001b[39;00m\u001b[38;5;21;01m.\u001b[39;00m\u001b[38;5;21;01mio\u001b[39;00m\u001b[38;5;21;01m.\u001b[39;00m\u001b[38;5;21;01mparquet\u001b[39;00m\u001b[38;5;250m \u001b[39m\u001b[38;5;28;01mimport\u001b[39;00m to_parquet\n\u001b[0;32m-> 3113\u001b[0m \u001b[38;5;28;01mreturn\u001b[39;00m \u001b[43mto_parquet\u001b[49m\u001b[43m(\u001b[49m\n\u001b[1;32m   3114\u001b[0m \u001b[43m    \u001b[49m\u001b[38;5;28;43mself\u001b[39;49m\u001b[43m,\u001b[49m\n\u001b[1;32m   3115\u001b[0m \u001b[43m    \u001b[49m\u001b[43mpath\u001b[49m\u001b[43m,\u001b[49m\n\u001b[1;32m   3116\u001b[0m \u001b[43m    \u001b[49m\u001b[43mengine\u001b[49m\u001b[43m,\u001b[49m\n\u001b[1;32m   3117\u001b[0m \u001b[43m    \u001b[49m\u001b[43mcompression\u001b[49m\u001b[38;5;241;43m=\u001b[39;49m\u001b[43mcompression\u001b[49m\u001b[43m,\u001b[49m\n\u001b[1;32m   3118\u001b[0m \u001b[43m    \u001b[49m\u001b[43mindex\u001b[49m\u001b[38;5;241;43m=\u001b[39;49m\u001b[43mindex\u001b[49m\u001b[43m,\u001b[49m\n\u001b[1;32m   3119\u001b[0m \u001b[43m    \u001b[49m\u001b[43mpartition_cols\u001b[49m\u001b[38;5;241;43m=\u001b[39;49m\u001b[43mpartition_cols\u001b[49m\u001b[43m,\u001b[49m\n\u001b[1;32m   3120\u001b[0m \u001b[43m    \u001b[49m\u001b[43mstorage_options\u001b[49m\u001b[38;5;241;43m=\u001b[39;49m\u001b[43mstorage_options\u001b[49m\u001b[43m,\u001b[49m\n\u001b[1;32m   3121\u001b[0m \u001b[43m    \u001b[49m\u001b[38;5;241;43m*\u001b[39;49m\u001b[38;5;241;43m*\u001b[39;49m\u001b[43mkwargs\u001b[49m\u001b[43m,\u001b[49m\n\u001b[1;32m   3122\u001b[0m \u001b[43m\u001b[49m\u001b[43m)\u001b[49m\n",
      "File \u001b[0;32m~/.pyenv/versions/drucom/lib/python3.10/site-packages/pandas/io/parquet.py:480\u001b[0m, in \u001b[0;36mto_parquet\u001b[0;34m(df, path, engine, compression, index, storage_options, partition_cols, filesystem, **kwargs)\u001b[0m\n\u001b[1;32m    476\u001b[0m impl \u001b[38;5;241m=\u001b[39m get_engine(engine)\n\u001b[1;32m    478\u001b[0m path_or_buf: FilePath \u001b[38;5;241m|\u001b[39m WriteBuffer[\u001b[38;5;28mbytes\u001b[39m] \u001b[38;5;241m=\u001b[39m io\u001b[38;5;241m.\u001b[39mBytesIO() \u001b[38;5;28;01mif\u001b[39;00m path \u001b[38;5;129;01mis\u001b[39;00m \u001b[38;5;28;01mNone\u001b[39;00m \u001b[38;5;28;01melse\u001b[39;00m path\n\u001b[0;32m--> 480\u001b[0m \u001b[43mimpl\u001b[49m\u001b[38;5;241;43m.\u001b[39;49m\u001b[43mwrite\u001b[49m\u001b[43m(\u001b[49m\n\u001b[1;32m    481\u001b[0m \u001b[43m    \u001b[49m\u001b[43mdf\u001b[49m\u001b[43m,\u001b[49m\n\u001b[1;32m    482\u001b[0m \u001b[43m    \u001b[49m\u001b[43mpath_or_buf\u001b[49m\u001b[43m,\u001b[49m\n\u001b[1;32m    483\u001b[0m \u001b[43m    \u001b[49m\u001b[43mcompression\u001b[49m\u001b[38;5;241;43m=\u001b[39;49m\u001b[43mcompression\u001b[49m\u001b[43m,\u001b[49m\n\u001b[1;32m    484\u001b[0m \u001b[43m    \u001b[49m\u001b[43mindex\u001b[49m\u001b[38;5;241;43m=\u001b[39;49m\u001b[43mindex\u001b[49m\u001b[43m,\u001b[49m\n\u001b[1;32m    485\u001b[0m \u001b[43m    \u001b[49m\u001b[43mpartition_cols\u001b[49m\u001b[38;5;241;43m=\u001b[39;49m\u001b[43mpartition_cols\u001b[49m\u001b[43m,\u001b[49m\n\u001b[1;32m    486\u001b[0m \u001b[43m    \u001b[49m\u001b[43mstorage_options\u001b[49m\u001b[38;5;241;43m=\u001b[39;49m\u001b[43mstorage_options\u001b[49m\u001b[43m,\u001b[49m\n\u001b[1;32m    487\u001b[0m \u001b[43m    \u001b[49m\u001b[43mfilesystem\u001b[49m\u001b[38;5;241;43m=\u001b[39;49m\u001b[43mfilesystem\u001b[49m\u001b[43m,\u001b[49m\n\u001b[1;32m    488\u001b[0m \u001b[43m    \u001b[49m\u001b[38;5;241;43m*\u001b[39;49m\u001b[38;5;241;43m*\u001b[39;49m\u001b[43mkwargs\u001b[49m\u001b[43m,\u001b[49m\n\u001b[1;32m    489\u001b[0m \u001b[43m\u001b[49m\u001b[43m)\u001b[49m\n\u001b[1;32m    491\u001b[0m \u001b[38;5;28;01mif\u001b[39;00m path \u001b[38;5;129;01mis\u001b[39;00m \u001b[38;5;28;01mNone\u001b[39;00m:\n\u001b[1;32m    492\u001b[0m     \u001b[38;5;28;01massert\u001b[39;00m \u001b[38;5;28misinstance\u001b[39m(path_or_buf, io\u001b[38;5;241m.\u001b[39mBytesIO)\n",
      "File \u001b[0;32m~/.pyenv/versions/drucom/lib/python3.10/site-packages/pandas/io/parquet.py:198\u001b[0m, in \u001b[0;36mPyArrowImpl.write\u001b[0;34m(self, df, path, compression, index, storage_options, partition_cols, filesystem, **kwargs)\u001b[0m\n\u001b[1;32m    195\u001b[0m     merged_metadata \u001b[38;5;241m=\u001b[39m {\u001b[38;5;241m*\u001b[39m\u001b[38;5;241m*\u001b[39mexisting_metadata, \u001b[38;5;241m*\u001b[39m\u001b[38;5;241m*\u001b[39mdf_metadata}\n\u001b[1;32m    196\u001b[0m     table \u001b[38;5;241m=\u001b[39m table\u001b[38;5;241m.\u001b[39mreplace_schema_metadata(merged_metadata)\n\u001b[0;32m--> 198\u001b[0m path_or_handle, handles, filesystem \u001b[38;5;241m=\u001b[39m \u001b[43m_get_path_or_handle\u001b[49m\u001b[43m(\u001b[49m\n\u001b[1;32m    199\u001b[0m \u001b[43m    \u001b[49m\u001b[43mpath\u001b[49m\u001b[43m,\u001b[49m\n\u001b[1;32m    200\u001b[0m \u001b[43m    \u001b[49m\u001b[43mfilesystem\u001b[49m\u001b[43m,\u001b[49m\n\u001b[1;32m    201\u001b[0m \u001b[43m    \u001b[49m\u001b[43mstorage_options\u001b[49m\u001b[38;5;241;43m=\u001b[39;49m\u001b[43mstorage_options\u001b[49m\u001b[43m,\u001b[49m\n\u001b[1;32m    202\u001b[0m \u001b[43m    \u001b[49m\u001b[43mmode\u001b[49m\u001b[38;5;241;43m=\u001b[39;49m\u001b[38;5;124;43m\"\u001b[39;49m\u001b[38;5;124;43mwb\u001b[39;49m\u001b[38;5;124;43m\"\u001b[39;49m\u001b[43m,\u001b[49m\n\u001b[1;32m    203\u001b[0m \u001b[43m    \u001b[49m\u001b[43mis_dir\u001b[49m\u001b[38;5;241;43m=\u001b[39;49m\u001b[43mpartition_cols\u001b[49m\u001b[43m \u001b[49m\u001b[38;5;129;43;01mis\u001b[39;49;00m\u001b[43m \u001b[49m\u001b[38;5;129;43;01mnot\u001b[39;49;00m\u001b[43m \u001b[49m\u001b[38;5;28;43;01mNone\u001b[39;49;00m\u001b[43m,\u001b[49m\n\u001b[1;32m    204\u001b[0m \u001b[43m\u001b[49m\u001b[43m)\u001b[49m\n\u001b[1;32m    205\u001b[0m \u001b[38;5;28;01mif\u001b[39;00m (\n\u001b[1;32m    206\u001b[0m     \u001b[38;5;28misinstance\u001b[39m(path_or_handle, io\u001b[38;5;241m.\u001b[39mBufferedWriter)\n\u001b[1;32m    207\u001b[0m     \u001b[38;5;129;01mand\u001b[39;00m \u001b[38;5;28mhasattr\u001b[39m(path_or_handle, \u001b[38;5;124m\"\u001b[39m\u001b[38;5;124mname\u001b[39m\u001b[38;5;124m\"\u001b[39m)\n\u001b[1;32m    208\u001b[0m     \u001b[38;5;129;01mand\u001b[39;00m \u001b[38;5;28misinstance\u001b[39m(path_or_handle\u001b[38;5;241m.\u001b[39mname, (\u001b[38;5;28mstr\u001b[39m, \u001b[38;5;28mbytes\u001b[39m))\n\u001b[1;32m    209\u001b[0m ):\n\u001b[1;32m    210\u001b[0m     \u001b[38;5;28;01mif\u001b[39;00m \u001b[38;5;28misinstance\u001b[39m(path_or_handle\u001b[38;5;241m.\u001b[39mname, \u001b[38;5;28mbytes\u001b[39m):\n",
      "File \u001b[0;32m~/.pyenv/versions/drucom/lib/python3.10/site-packages/pandas/io/parquet.py:140\u001b[0m, in \u001b[0;36m_get_path_or_handle\u001b[0;34m(path, fs, storage_options, mode, is_dir)\u001b[0m\n\u001b[1;32m    130\u001b[0m handles \u001b[38;5;241m=\u001b[39m \u001b[38;5;28;01mNone\u001b[39;00m\n\u001b[1;32m    131\u001b[0m \u001b[38;5;28;01mif\u001b[39;00m (\n\u001b[1;32m    132\u001b[0m     \u001b[38;5;129;01mnot\u001b[39;00m fs\n\u001b[1;32m    133\u001b[0m     \u001b[38;5;129;01mand\u001b[39;00m \u001b[38;5;129;01mnot\u001b[39;00m is_dir\n\u001b[0;32m   (...)\u001b[0m\n\u001b[1;32m    138\u001b[0m     \u001b[38;5;66;03m# fsspec resources can also point to directories\u001b[39;00m\n\u001b[1;32m    139\u001b[0m     \u001b[38;5;66;03m# this branch is used for example when reading from non-fsspec URLs\u001b[39;00m\n\u001b[0;32m--> 140\u001b[0m     handles \u001b[38;5;241m=\u001b[39m \u001b[43mget_handle\u001b[49m\u001b[43m(\u001b[49m\n\u001b[1;32m    141\u001b[0m \u001b[43m        \u001b[49m\u001b[43mpath_or_handle\u001b[49m\u001b[43m,\u001b[49m\u001b[43m \u001b[49m\u001b[43mmode\u001b[49m\u001b[43m,\u001b[49m\u001b[43m \u001b[49m\u001b[43mis_text\u001b[49m\u001b[38;5;241;43m=\u001b[39;49m\u001b[38;5;28;43;01mFalse\u001b[39;49;00m\u001b[43m,\u001b[49m\u001b[43m \u001b[49m\u001b[43mstorage_options\u001b[49m\u001b[38;5;241;43m=\u001b[39;49m\u001b[43mstorage_options\u001b[49m\n\u001b[1;32m    142\u001b[0m \u001b[43m    \u001b[49m\u001b[43m)\u001b[49m\n\u001b[1;32m    143\u001b[0m     fs \u001b[38;5;241m=\u001b[39m \u001b[38;5;28;01mNone\u001b[39;00m\n\u001b[1;32m    144\u001b[0m     path_or_handle \u001b[38;5;241m=\u001b[39m handles\u001b[38;5;241m.\u001b[39mhandle\n",
      "File \u001b[0;32m~/.pyenv/versions/drucom/lib/python3.10/site-packages/pandas/io/common.py:749\u001b[0m, in \u001b[0;36mget_handle\u001b[0;34m(path_or_buf, mode, encoding, compression, memory_map, is_text, errors, storage_options)\u001b[0m\n\u001b[1;32m    747\u001b[0m \u001b[38;5;66;03m# Only for write methods\u001b[39;00m\n\u001b[1;32m    748\u001b[0m \u001b[38;5;28;01mif\u001b[39;00m \u001b[38;5;124m\"\u001b[39m\u001b[38;5;124mr\u001b[39m\u001b[38;5;124m\"\u001b[39m \u001b[38;5;129;01mnot\u001b[39;00m \u001b[38;5;129;01min\u001b[39;00m mode \u001b[38;5;129;01mand\u001b[39;00m is_path:\n\u001b[0;32m--> 749\u001b[0m     \u001b[43mcheck_parent_directory\u001b[49m\u001b[43m(\u001b[49m\u001b[38;5;28;43mstr\u001b[39;49m\u001b[43m(\u001b[49m\u001b[43mhandle\u001b[49m\u001b[43m)\u001b[49m\u001b[43m)\u001b[49m\n\u001b[1;32m    751\u001b[0m \u001b[38;5;28;01mif\u001b[39;00m compression:\n\u001b[1;32m    752\u001b[0m     \u001b[38;5;28;01mif\u001b[39;00m compression \u001b[38;5;241m!=\u001b[39m \u001b[38;5;124m\"\u001b[39m\u001b[38;5;124mzstd\u001b[39m\u001b[38;5;124m\"\u001b[39m:\n\u001b[1;32m    753\u001b[0m         \u001b[38;5;66;03m# compression libraries do not like an explicit text-mode\u001b[39;00m\n",
      "File \u001b[0;32m~/.pyenv/versions/drucom/lib/python3.10/site-packages/pandas/io/common.py:616\u001b[0m, in \u001b[0;36mcheck_parent_directory\u001b[0;34m(path)\u001b[0m\n\u001b[1;32m    614\u001b[0m parent \u001b[38;5;241m=\u001b[39m Path(path)\u001b[38;5;241m.\u001b[39mparent\n\u001b[1;32m    615\u001b[0m \u001b[38;5;28;01mif\u001b[39;00m \u001b[38;5;129;01mnot\u001b[39;00m parent\u001b[38;5;241m.\u001b[39mis_dir():\n\u001b[0;32m--> 616\u001b[0m     \u001b[38;5;28;01mraise\u001b[39;00m \u001b[38;5;167;01mOSError\u001b[39;00m(\u001b[38;5;124mrf\u001b[39m\u001b[38;5;124m\"\u001b[39m\u001b[38;5;124mCannot save file into a non-existent directory: \u001b[39m\u001b[38;5;124m'\u001b[39m\u001b[38;5;132;01m{\u001b[39;00mparent\u001b[38;5;132;01m}\u001b[39;00m\u001b[38;5;124m'\u001b[39m\u001b[38;5;124m\"\u001b[39m)\n",
      "\u001b[0;31mOSError\u001b[0m: Cannot save file into a non-existent directory: '../data/csv'"
     ]
    }
   ],
   "source": [
    "import os\n",
    "import pandas as pd\n",
    "\n",
    "# Define the input folder and output file\n",
    "input_folder = \"../data/json/pages_user/\"\n",
    "\n",
    "# Initialize an empty list to store dataframes\n",
    "dataframes = []\n",
    "\n",
    "# Dynamically set max_pages to the total number of JSON files in the directory\n",
    "max_pages = len([f for f in os.listdir(input_folder) if f.endswith(\".json\")])\n",
    "\n",
    "# For testing purposes, limit the number of pages to process.\n",
    "# max_pages = 1000\n",
    "\n",
    "# Get a sorted list of JSON files\n",
    "json_files = sorted(\n",
    "    [f for f in os.listdir(input_folder) if f.endswith(\".json\")],\n",
    "    key=lambda x: int(x.split(\"_\")[-1].split(\".\")[0])  # Sort by page number\n",
    ")[:max_pages]  # Limit to max_pages files\n",
    "\n",
    "# Iterate over the selected JSON files\n",
    "for filename in json_files:\n",
    "    file_path = os.path.join(input_folder, filename)\n",
    "    # Read the JSON file into a dataframe\n",
    "    df = pd.read_json(file_path, lines=True, dtype={\n",
    "        \"id\": \"int32\",\n",
    "        \"title\": \"string\",\n",
    "        \"fname\": \"string\",\n",
    "        \"lname\": \"string\",\n",
    "        \"created\": \"int32\",\n",
    "        \"da_membership\": \"string\",\n",
    "        \"slack\": \"string\",\n",
    "        \"timezone\": \"string\",\n",
    "        \"region\": \"string\",\n",
    "        \"mentors\": \"object\",\n",
    "        \"countries\": \"object\",\n",
    "        \"languages\": \"object\",\n",
    "        \"organizations\": \"object\",\n",
    "        \"industries\": \"object\",\n",
    "        \"contributions\": \"object\",\n",
    "        \"events\": \"object\",\n",
    "    })\n",
    "    # Append the dataframe to the list\n",
    "    dataframes.append(df)\n",
    "\n",
    "# Concatenate all dataframes\n",
    "merged_df = pd.concat(dataframes, ignore_index=True)\n",
    "\n",
    "print(\"Data concatenated and ready to be merged!\")\n"
   ]
  },
  {
   "cell_type": "markdown",
   "id": "fdd9d7eb",
   "metadata": {},
   "source": [
    "Now convert our data to a Parquet file:"
   ]
  },
  {
   "cell_type": "code",
   "execution_count": null,
   "id": "1e38f9d5",
   "metadata": {},
   "outputs": [
    {
     "name": "stdout",
     "output_type": "stream",
     "text": [
      "Data successfully merged and saved to ../data/users.parquet\n"
     ]
    }
   ],
   "source": [
    "# Save the merged dataframe as a parquet file\n",
    "output_file = \"../data/users.parquet\"\n",
    "merged_df.to_parquet(output_file, index=False)\n",
    "print(f\"Data successfully merged and saved to {output_file}\")"
   ]
  },
  {
   "cell_type": "markdown",
   "id": "c6741363",
   "metadata": {},
   "source": [
    "Check the dataset:"
   ]
  },
  {
   "cell_type": "code",
   "execution_count": null,
   "id": "6008e3c9",
   "metadata": {},
   "outputs": [
    {
     "data": {
      "text/plain": [
       "(2093637, 18)"
      ]
     },
     "execution_count": 40,
     "metadata": {},
     "output_type": "execute_result"
    }
   ],
   "source": [
    "df = pd.read_parquet(output_file)\n"
   ]
  },
  {
   "cell_type": "markdown",
   "id": "6ea9b0bc",
   "metadata": {},
   "source": [
    "## Users data"
   ]
  },
  {
   "cell_type": "markdown",
   "id": "6408192f",
   "metadata": {},
   "source": [
    "We now have a dataset of approximately 2.1 millions users."
   ]
  },
  {
   "cell_type": "code",
   "execution_count": 41,
   "id": "12f7a3bd",
   "metadata": {},
   "outputs": [
    {
     "data": {
      "text/plain": [
       "(2093637, 18)"
      ]
     },
     "execution_count": 41,
     "metadata": {},
     "output_type": "execute_result"
    }
   ],
   "source": [
    "df.shape"
   ]
  },
  {
   "cell_type": "markdown",
   "id": "cad5f2da",
   "metadata": {},
   "source": [
    "### Cleaning\n",
    "\n",
    "There is a lot of empty values in this dataset."
   ]
  },
  {
   "cell_type": "code",
   "execution_count": 52,
   "id": "f503c644",
   "metadata": {},
   "outputs": [
    {
     "data": {
      "text/plain": [
       "id                     0\n",
       "title                  0\n",
       "fname            1609139\n",
       "lname            1620055\n",
       "created                0\n",
       "da_membership    2091243\n",
       "slack            2090244\n",
       "mentors          2086708\n",
       "countries         807238\n",
       "language         2080667\n",
       "languages        1986539\n",
       "timezone         1426273\n",
       "region           1426273\n",
       "city             1426273\n",
       "organizations    1824671\n",
       "industries       2093637\n",
       "contributions    2064886\n",
       "events           2079715\n",
       "registered_on          0\n",
       "dtype: int64"
      ]
     },
     "execution_count": 52,
     "metadata": {},
     "output_type": "execute_result"
    }
   ],
   "source": [
    "df.isnull().sum()"
   ]
  },
  {
   "cell_type": "markdown",
   "id": "c26d5162",
   "metadata": {},
   "source": [
    "We can normalize empty data using `None` and get proper datetime values for the registration date."
   ]
  },
  {
   "cell_type": "code",
   "execution_count": null,
   "id": "e33d3123",
   "metadata": {},
   "outputs": [],
   "source": [
    "# Cleaning data.\n",
    "df = df.replace({pd.NA: None})\n",
    "\n",
    "# Replace empty arrays with None.\n",
    "for col in df.columns:\n",
    "    if df[col].dtype == 'O':\n",
    "         df[col] = df[col].apply(lambda x: None if (x is None or len(x) == 0) else x)\n"
   ]
  },
  {
   "cell_type": "code",
   "execution_count": null,
   "id": "f394a4a9",
   "metadata": {},
   "outputs": [],
   "source": [
    "import datetime\n",
    "\n",
    "# Add formatted registration date.\n",
    "if 'registered_on' not in df.columns:\n",
    "    df['registered_on'] = df['created'].apply(lambda d: datetime.datetime.fromtimestamp(d))"
   ]
  },
  {
   "cell_type": "markdown",
   "id": "c9535af8",
   "metadata": {},
   "source": [
    "Now let's take a look at the actual data:"
   ]
  },
  {
   "cell_type": "code",
   "execution_count": null,
   "id": "024e191c",
   "metadata": {},
   "outputs": [
    {
     "data": {
      "text/html": [
       "<div>\n",
       "<style scoped>\n",
       "    .dataframe tbody tr th:only-of-type {\n",
       "        vertical-align: middle;\n",
       "    }\n",
       "\n",
       "    .dataframe tbody tr th {\n",
       "        vertical-align: top;\n",
       "    }\n",
       "\n",
       "    .dataframe thead th {\n",
       "        text-align: right;\n",
       "    }\n",
       "</style>\n",
       "<table border=\"1\" class=\"dataframe\">\n",
       "  <thead>\n",
       "    <tr style=\"text-align: right;\">\n",
       "      <th></th>\n",
       "      <th>id</th>\n",
       "      <th>title</th>\n",
       "      <th>fname</th>\n",
       "      <th>lname</th>\n",
       "      <th>created</th>\n",
       "      <th>da_membership</th>\n",
       "      <th>slack</th>\n",
       "      <th>mentors</th>\n",
       "      <th>countries</th>\n",
       "      <th>language</th>\n",
       "      <th>languages</th>\n",
       "      <th>timezone</th>\n",
       "      <th>region</th>\n",
       "      <th>city</th>\n",
       "      <th>organizations</th>\n",
       "      <th>industries</th>\n",
       "      <th>contributions</th>\n",
       "      <th>events</th>\n",
       "      <th>registered_on</th>\n",
       "    </tr>\n",
       "  </thead>\n",
       "  <tbody>\n",
       "    <tr>\n",
       "      <th>0</th>\n",
       "      <td>1</td>\n",
       "      <td>dries</td>\n",
       "      <td>Dries</td>\n",
       "      <td>Buytaert</td>\n",
       "      <td>986038980</td>\n",
       "      <td>Current</td>\n",
       "      <td>None</td>\n",
       "      <td>None</td>\n",
       "      <td>[BE]</td>\n",
       "      <td>None</td>\n",
       "      <td>[Dutch, English]</td>\n",
       "      <td>America/New_York</td>\n",
       "      <td>America</td>\n",
       "      <td>New_York</td>\n",
       "      <td>[434463, 502475, 1291956]</td>\n",
       "      <td>None</td>\n",
       "      <td>None</td>\n",
       "      <td>None</td>\n",
       "      <td>2001-03-31 13:43:00</td>\n",
       "    </tr>\n",
       "    <tr>\n",
       "      <th>1</th>\n",
       "      <td>2</td>\n",
       "      <td>Kjartan</td>\n",
       "      <td>Kjartan</td>\n",
       "      <td>Mannes</td>\n",
       "      <td>986038980</td>\n",
       "      <td>None</td>\n",
       "      <td>None</td>\n",
       "      <td>None</td>\n",
       "      <td>[NO]</td>\n",
       "      <td>None</td>\n",
       "      <td>[English, French, Norwegian Bokmål]</td>\n",
       "      <td>Europe/Oslo</td>\n",
       "      <td>Europe</td>\n",
       "      <td>Oslo</td>\n",
       "      <td>[434465]</td>\n",
       "      <td>None</td>\n",
       "      <td>[patches, modules, issues, drupalorg, document...</td>\n",
       "      <td>[antwerp_2005, brussels_2006, denver_2012, mun...</td>\n",
       "      <td>2001-03-31 13:43:00</td>\n",
       "    </tr>\n",
       "    <tr>\n",
       "      <th>2</th>\n",
       "      <td>3</td>\n",
       "      <td>Drupal</td>\n",
       "      <td>None</td>\n",
       "      <td>None</td>\n",
       "      <td>986038980</td>\n",
       "      <td>None</td>\n",
       "      <td>None</td>\n",
       "      <td>None</td>\n",
       "      <td>None</td>\n",
       "      <td>None</td>\n",
       "      <td>None</td>\n",
       "      <td>None</td>\n",
       "      <td>None</td>\n",
       "      <td>None</td>\n",
       "      <td>None</td>\n",
       "      <td>None</td>\n",
       "      <td>None</td>\n",
       "      <td>None</td>\n",
       "      <td>2001-03-31 13:43:00</td>\n",
       "    </tr>\n",
       "    <tr>\n",
       "      <th>3</th>\n",
       "      <td>4</td>\n",
       "      <td>gnudist</td>\n",
       "      <td>None</td>\n",
       "      <td>None</td>\n",
       "      <td>986038980</td>\n",
       "      <td>None</td>\n",
       "      <td>None</td>\n",
       "      <td>None</td>\n",
       "      <td>None</td>\n",
       "      <td>None</td>\n",
       "      <td>None</td>\n",
       "      <td>None</td>\n",
       "      <td>None</td>\n",
       "      <td>None</td>\n",
       "      <td>None</td>\n",
       "      <td>None</td>\n",
       "      <td>None</td>\n",
       "      <td>None</td>\n",
       "      <td>2001-03-31 13:43:00</td>\n",
       "    </tr>\n",
       "    <tr>\n",
       "      <th>4</th>\n",
       "      <td>5</td>\n",
       "      <td>bitziz</td>\n",
       "      <td>None</td>\n",
       "      <td>None</td>\n",
       "      <td>986038980</td>\n",
       "      <td>None</td>\n",
       "      <td>None</td>\n",
       "      <td>None</td>\n",
       "      <td>None</td>\n",
       "      <td>None</td>\n",
       "      <td>None</td>\n",
       "      <td>None</td>\n",
       "      <td>None</td>\n",
       "      <td>None</td>\n",
       "      <td>None</td>\n",
       "      <td>None</td>\n",
       "      <td>None</td>\n",
       "      <td>None</td>\n",
       "      <td>2001-03-31 13:43:00</td>\n",
       "    </tr>\n",
       "  </tbody>\n",
       "</table>\n",
       "</div>"
      ],
      "text/plain": [
       "   id    title    fname     lname    created da_membership slack mentors  \\\n",
       "0   1    dries    Dries  Buytaert  986038980       Current  None    None   \n",
       "1   2  Kjartan  Kjartan    Mannes  986038980          None  None    None   \n",
       "2   3   Drupal     None      None  986038980          None  None    None   \n",
       "3   4  gnudist     None      None  986038980          None  None    None   \n",
       "4   5   bitziz     None      None  986038980          None  None    None   \n",
       "\n",
       "  countries language                            languages          timezone  \\\n",
       "0      [BE]     None                     [Dutch, English]  America/New_York   \n",
       "1      [NO]     None  [English, French, Norwegian Bokmål]       Europe/Oslo   \n",
       "2      None     None                                 None              None   \n",
       "3      None     None                                 None              None   \n",
       "4      None     None                                 None              None   \n",
       "\n",
       "    region      city              organizations industries  \\\n",
       "0  America  New_York  [434463, 502475, 1291956]       None   \n",
       "1   Europe      Oslo                   [434465]       None   \n",
       "2     None      None                       None       None   \n",
       "3     None      None                       None       None   \n",
       "4     None      None                       None       None   \n",
       "\n",
       "                                       contributions  \\\n",
       "0                                               None   \n",
       "1  [patches, modules, issues, drupalorg, document...   \n",
       "2                                               None   \n",
       "3                                               None   \n",
       "4                                               None   \n",
       "\n",
       "                                              events       registered_on  \n",
       "0                                               None 2001-03-31 13:43:00  \n",
       "1  [antwerp_2005, brussels_2006, denver_2012, mun... 2001-03-31 13:43:00  \n",
       "2                                               None 2001-03-31 13:43:00  \n",
       "3                                               None 2001-03-31 13:43:00  \n",
       "4                                               None 2001-03-31 13:43:00  "
      ]
     },
     "execution_count": 44,
     "metadata": {},
     "output_type": "execute_result"
    }
   ],
   "source": [
    "df.head()"
   ]
  },
  {
   "cell_type": "markdown",
   "id": "ab5d2581",
   "metadata": {},
   "source": [
    "The only numerical data we can *describe* in the registration date."
   ]
  },
  {
   "cell_type": "code",
   "execution_count": 50,
   "id": "122e2666",
   "metadata": {},
   "outputs": [
    {
     "data": {
      "text/plain": [
       "count                          2093637\n",
       "mean     2012-08-26 21:11:03.192140032\n",
       "min                2001-03-31 13:43:00\n",
       "25%                2009-11-06 16:05:58\n",
       "50%                2012-01-10 21:21:42\n",
       "75%                2014-06-21 16:46:53\n",
       "max                2025-03-26 20:30:33\n",
       "Name: registered_on, dtype: object"
      ]
     },
     "execution_count": 50,
     "metadata": {},
     "output_type": "execute_result"
    }
   ],
   "source": [
    "df['registered_on'].describe()"
   ]
  },
  {
   "cell_type": "markdown",
   "id": "b57569f6",
   "metadata": {},
   "source": [
    "---\n",
    "\n",
    "@todo Define next steps of this exploraty analysis"
   ]
  }
 ],
 "metadata": {
  "kernelspec": {
   "display_name": "drucom",
   "language": "python",
   "name": "python3"
  },
  "language_info": {
   "codemirror_mode": {
    "name": "ipython",
    "version": 3
   },
   "file_extension": ".py",
   "mimetype": "text/x-python",
   "name": "python",
   "nbconvert_exporter": "python",
   "pygments_lexer": "ipython3",
   "version": "3.10.6"
  }
 },
 "nbformat": 4,
 "nbformat_minor": 5
}
