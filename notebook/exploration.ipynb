{
 "cells": [
  {
   "cell_type": "markdown",
   "id": "aeefc495",
   "metadata": {},
   "source": [
    "# Exploraty Data Analysis"
   ]
  },
  {
   "cell_type": "markdown",
   "id": "547f6c3e",
   "metadata": {},
   "source": [
    "Exploration of our data about the Drupal Community."
   ]
  },
  {
   "cell_type": "code",
   "execution_count": null,
   "id": "4733c5c7",
   "metadata": {},
   "outputs": [],
   "source": [
    "import pandas as pd\n",
    "import matplotlib.pyplot as plt\n",
    "from collections import Counter\n"
   ]
  },
  {
   "cell_type": "code",
   "execution_count": null,
   "id": "5556297d",
   "metadata": {},
   "outputs": [],
   "source": [
    "import time\n",
    "import random\n",
    "from multiprocessing import Pool\n",
    "\n",
    "import numpy as np\n",
    "import pandas as pd\n",
    "from tqdm import tqdm\n",
    "\n",
    "tqdm.pandas()\n",
    "\n",
    "\n",
    "def predict_sentiment(review):\n",
    "    time.sleep(0.1)  # simulating time taken by prediction model\n",
    "    return \"Positive\" if random.randint(1, 10) > 5 else \"Negative\"\n",
    "\n",
    "\n",
    "def batch_predict_sentiment(review_df):\n",
    "    review_df[\"sentiment\"] = review_df[\"comments\"].progress_apply(\n",
    "        predict_sentiment)\n",
    "    return review_df\n",
    "\n",
    "\n",
    "def fetch_sentiment_for_review():\n",
    "    n_cores = 64\n",
    "    reviews = pd.read_csv(\"data/reviews.csv\")\n",
    "    # split into same number of batches as n_cores\n",
    "    review_batches = np.array_split(reviews, n_cores)\n",
    "\n",
    "    # Processing Parallely\n",
    "    with Pool(n_cores) as pool:\n",
    "        sentiment_prediction_batches = pool.map(\n",
    "            batch_predict_sentiment, review_batches)\n",
    "\n",
    "    # Once all the batches are processed, concatenate list of DataFrames into a single DataFrame\n",
    "    sentiment_prediction = pd.concat(sentiment_prediction_batches)\n",
    "    return sentiment_prediction\n",
    "\n",
    "\n",
    "reviews_with_sentiment = \n",
    "()\n"
   ]
  },
  {
   "cell_type": "markdown",
   "id": "6ea9b0bc",
   "metadata": {},
   "source": [
    "## Users data"
   ]
  },
  {
   "cell_type": "markdown",
   "id": "e7e4c767",
   "metadata": {},
   "source": [
    "### Understand the Data Structure\n",
    "\n",
    "Run the following checks to get a sense of the dataset:"
   ]
  },
  {
   "cell_type": "code",
   "execution_count": null,
   "id": "12f7a3bd",
   "metadata": {},
   "outputs": [
    {
     "data": {
      "text/plain": [
       "(2093637, 18)"
      ]
     },
     "execution_count": 70,
     "metadata": {},
     "output_type": "execute_result"
    }
   ],
   "source": [
    "# Load the dataset\n",
    "df = pd.read_parquet('../data/user.parquet')\n",
    "df.shape\n"
   ]
  },
  {
   "cell_type": "code",
   "execution_count": null,
   "id": "cac57cf9",
   "metadata": {},
   "outputs": [
    {
     "name": "stdout",
     "output_type": "stream",
     "text": [
      "<class 'pandas.core.frame.DataFrame'>\n",
      "RangeIndex: 2093637 entries, 0 to 2093636\n",
      "Data columns (total 18 columns):\n",
      " #   Column         Dtype \n",
      "---  ------         ----- \n",
      " 0   id             int32 \n",
      " 1   title          string\n",
      " 2   fname          string\n",
      " 3   lname          string\n",
      " 4   created        int32 \n",
      " 5   da_membership  string\n",
      " 6   slack          string\n",
      " 7   mentors        object\n",
      " 8   countries      object\n",
      " 9   language       object\n",
      " 10  languages      object\n",
      " 11  timezone       string\n",
      " 12  region         string\n",
      " 13  city           object\n",
      " 14  organizations  object\n",
      " 15  industries     object\n",
      " 16  contributions  object\n",
      " 17  events         object\n",
      "dtypes: int32(2), object(9), string(7)\n",
      "memory usage: 271.5+ MB\n"
     ]
    },
    {
     "data": {
      "text/plain": [
       "None"
      ]
     },
     "metadata": {},
     "output_type": "display_data"
    },
    {
     "data": {
      "text/html": [
       "<div>\n",
       "<style scoped>\n",
       "    .dataframe tbody tr th:only-of-type {\n",
       "        vertical-align: middle;\n",
       "    }\n",
       "\n",
       "    .dataframe tbody tr th {\n",
       "        vertical-align: top;\n",
       "    }\n",
       "\n",
       "    .dataframe thead th {\n",
       "        text-align: right;\n",
       "    }\n",
       "</style>\n",
       "<table border=\"1\" class=\"dataframe\">\n",
       "  <thead>\n",
       "    <tr style=\"text-align: right;\">\n",
       "      <th></th>\n",
       "      <th>id</th>\n",
       "      <th>created</th>\n",
       "    </tr>\n",
       "  </thead>\n",
       "  <tbody>\n",
       "    <tr>\n",
       "      <th>count</th>\n",
       "      <td>2.093637e+06</td>\n",
       "      <td>2.093637e+06</td>\n",
       "    </tr>\n",
       "    <tr>\n",
       "      <th>mean</th>\n",
       "      <td>1.823387e+06</td>\n",
       "      <td>1.346010e+09</td>\n",
       "    </tr>\n",
       "    <tr>\n",
       "      <th>std</th>\n",
       "      <td>1.233388e+06</td>\n",
       "      <td>1.347032e+08</td>\n",
       "    </tr>\n",
       "    <tr>\n",
       "      <th>min</th>\n",
       "      <td>1.000000e+00</td>\n",
       "      <td>9.860390e+08</td>\n",
       "    </tr>\n",
       "    <tr>\n",
       "      <th>25%</th>\n",
       "      <td>6.417400e+05</td>\n",
       "      <td>1.257520e+09</td>\n",
       "    </tr>\n",
       "    <tr>\n",
       "      <th>50%</th>\n",
       "      <td>1.758646e+06</td>\n",
       "      <td>1.326227e+09</td>\n",
       "    </tr>\n",
       "    <tr>\n",
       "      <th>75%</th>\n",
       "      <td>2.929359e+06</td>\n",
       "      <td>1.403362e+09</td>\n",
       "    </tr>\n",
       "    <tr>\n",
       "      <th>max</th>\n",
       "      <td>3.843802e+06</td>\n",
       "      <td>1.743017e+09</td>\n",
       "    </tr>\n",
       "  </tbody>\n",
       "</table>\n",
       "</div>"
      ],
      "text/plain": [
       "                 id       created\n",
       "count  2.093637e+06  2.093637e+06\n",
       "mean   1.823387e+06  1.346010e+09\n",
       "std    1.233388e+06  1.347032e+08\n",
       "min    1.000000e+00  9.860390e+08\n",
       "25%    6.417400e+05  1.257520e+09\n",
       "50%    1.758646e+06  1.326227e+09\n",
       "75%    2.929359e+06  1.403362e+09\n",
       "max    3.843802e+06  1.743017e+09"
      ]
     },
     "metadata": {},
     "output_type": "display_data"
    },
    {
     "data": {
      "text/plain": [
       "id                     0\n",
       "title                  0\n",
       "fname            1609139\n",
       "lname            1620054\n",
       "created                0\n",
       "da_membership    2090968\n",
       "slack            2090244\n",
       "mentors                0\n",
       "countries              0\n",
       "language         2080667\n",
       "languages              0\n",
       "timezone         1425587\n",
       "region           1426273\n",
       "city             1426273\n",
       "organizations          0\n",
       "industries       2093637\n",
       "contributions          0\n",
       "events                 0\n",
       "dtype: int64"
      ]
     },
     "metadata": {},
     "output_type": "display_data"
    }
   ],
   "source": [
    "display(\n",
    "    # Get basic info on columns, data types, and missing values\n",
    "    df.info(),\n",
    "    # Summary statistics (only useful for numerical fields)\n",
    "    df.describe(),\n",
    "    # Check for missing values\n",
    "    df.isnull().sum(),\n",
    ")\n"
   ]
  },
  {
   "cell_type": "markdown",
   "metadata": {},
   "source": [
    "### Data cleaning and preprocessing \n",
    "\n",
    "Since the dataset contains lists (e.g., countries, languages, mentors), we need to normalize these fields. We use `None` if the list of values are empty.\n",
    "\n",
    "We convert timestamp to proper datetimes."
   ]
  },
  {
   "cell_type": "code",
   "execution_count": null,
   "metadata": {},
   "outputs": [],
   "source": [
    "# Fill missing values with a default value\n",
    "df = df.fillna('None')\n",
    "\n",
    "# Replace empty arrays with None.\n",
    "for col in df.columns:\n",
    "    if df[col].dtype == 'O':\n",
    "        df[col] = df[col].apply(lambda x: None if (\n",
    "            x is None or len(x) == 0) else x)\n"
   ]
  },
  {
   "cell_type": "code",
   "execution_count": null,
   "metadata": {},
   "outputs": [
    {
     "ename": "KeyError",
     "evalue": "'registered_on'",
     "output_type": "error",
     "traceback": [
      "\u001b[0;31m---------------------------------------------------------------------------\u001b[0m",
      "\u001b[0;31mKeyError\u001b[0m                                  Traceback (most recent call last)",
      "File \u001b[0;32m~/.pyenv/versions/3.10.6/envs/drucom/lib/python3.10/site-packages/pandas/core/indexes/base.py:3805\u001b[0m, in \u001b[0;36mIndex.get_loc\u001b[0;34m(self, key)\u001b[0m\n\u001b[1;32m   3804\u001b[0m \u001b[38;5;28;01mtry\u001b[39;00m:\n\u001b[0;32m-> 3805\u001b[0m     \u001b[38;5;28;01mreturn\u001b[39;00m \u001b[38;5;28;43mself\u001b[39;49m\u001b[38;5;241;43m.\u001b[39;49m\u001b[43m_engine\u001b[49m\u001b[38;5;241;43m.\u001b[39;49m\u001b[43mget_loc\u001b[49m\u001b[43m(\u001b[49m\u001b[43mcasted_key\u001b[49m\u001b[43m)\u001b[49m\n\u001b[1;32m   3806\u001b[0m \u001b[38;5;28;01mexcept\u001b[39;00m \u001b[38;5;167;01mKeyError\u001b[39;00m \u001b[38;5;28;01mas\u001b[39;00m err:\n",
      "File \u001b[0;32mindex.pyx:167\u001b[0m, in \u001b[0;36mpandas._libs.index.IndexEngine.get_loc\u001b[0;34m()\u001b[0m\n",
      "File \u001b[0;32mindex.pyx:196\u001b[0m, in \u001b[0;36mpandas._libs.index.IndexEngine.get_loc\u001b[0;34m()\u001b[0m\n",
      "File \u001b[0;32mpandas/_libs/hashtable_class_helper.pxi:7081\u001b[0m, in \u001b[0;36mpandas._libs.hashtable.PyObjectHashTable.get_item\u001b[0;34m()\u001b[0m\n",
      "File \u001b[0;32mpandas/_libs/hashtable_class_helper.pxi:7089\u001b[0m, in \u001b[0;36mpandas._libs.hashtable.PyObjectHashTable.get_item\u001b[0;34m()\u001b[0m\n",
      "\u001b[0;31mKeyError\u001b[0m: 'registered_on'",
      "\nThe above exception was the direct cause of the following exception:\n",
      "\u001b[0;31mKeyError\u001b[0m                                  Traceback (most recent call last)",
      "Cell \u001b[0;32mIn[73], line 1\u001b[0m\n\u001b[0;32m----> 1\u001b[0m \u001b[43musers\u001b[49m\u001b[43m[\u001b[49m\u001b[38;5;124;43m'\u001b[39;49m\u001b[38;5;124;43mregistered_on\u001b[39;49m\u001b[38;5;124;43m'\u001b[39;49m\u001b[43m]\u001b[49m\u001b[38;5;241m.\u001b[39mdt\u001b[38;5;241m.\u001b[39myear\u001b[38;5;241m.\u001b[39mvalue_counts()\u001b[38;5;241m.\u001b[39msort_index()\u001b[38;5;241m.\u001b[39mplot(kind\u001b[38;5;241m=\u001b[39m\u001b[38;5;124m\"\u001b[39m\u001b[38;5;124mbar\u001b[39m\u001b[38;5;124m\"\u001b[39m)\n\u001b[1;32m      2\u001b[0m plt\u001b[38;5;241m.\u001b[39mtitle(\u001b[38;5;124m\"\u001b[39m\u001b[38;5;124mUser Registrations Per Year\u001b[39m\u001b[38;5;124m\"\u001b[39m)\n",
      "File \u001b[0;32m~/.pyenv/versions/3.10.6/envs/drucom/lib/python3.10/site-packages/pandas/core/frame.py:4102\u001b[0m, in \u001b[0;36mDataFrame.__getitem__\u001b[0;34m(self, key)\u001b[0m\n\u001b[1;32m   4100\u001b[0m \u001b[38;5;28;01mif\u001b[39;00m \u001b[38;5;28mself\u001b[39m\u001b[38;5;241m.\u001b[39mcolumns\u001b[38;5;241m.\u001b[39mnlevels \u001b[38;5;241m>\u001b[39m \u001b[38;5;241m1\u001b[39m:\n\u001b[1;32m   4101\u001b[0m     \u001b[38;5;28;01mreturn\u001b[39;00m \u001b[38;5;28mself\u001b[39m\u001b[38;5;241m.\u001b[39m_getitem_multilevel(key)\n\u001b[0;32m-> 4102\u001b[0m indexer \u001b[38;5;241m=\u001b[39m \u001b[38;5;28;43mself\u001b[39;49m\u001b[38;5;241;43m.\u001b[39;49m\u001b[43mcolumns\u001b[49m\u001b[38;5;241;43m.\u001b[39;49m\u001b[43mget_loc\u001b[49m\u001b[43m(\u001b[49m\u001b[43mkey\u001b[49m\u001b[43m)\u001b[49m\n\u001b[1;32m   4103\u001b[0m \u001b[38;5;28;01mif\u001b[39;00m is_integer(indexer):\n\u001b[1;32m   4104\u001b[0m     indexer \u001b[38;5;241m=\u001b[39m [indexer]\n",
      "File \u001b[0;32m~/.pyenv/versions/3.10.6/envs/drucom/lib/python3.10/site-packages/pandas/core/indexes/base.py:3812\u001b[0m, in \u001b[0;36mIndex.get_loc\u001b[0;34m(self, key)\u001b[0m\n\u001b[1;32m   3807\u001b[0m     \u001b[38;5;28;01mif\u001b[39;00m \u001b[38;5;28misinstance\u001b[39m(casted_key, \u001b[38;5;28mslice\u001b[39m) \u001b[38;5;129;01mor\u001b[39;00m (\n\u001b[1;32m   3808\u001b[0m         \u001b[38;5;28misinstance\u001b[39m(casted_key, abc\u001b[38;5;241m.\u001b[39mIterable)\n\u001b[1;32m   3809\u001b[0m         \u001b[38;5;129;01mand\u001b[39;00m \u001b[38;5;28many\u001b[39m(\u001b[38;5;28misinstance\u001b[39m(x, \u001b[38;5;28mslice\u001b[39m) \u001b[38;5;28;01mfor\u001b[39;00m x \u001b[38;5;129;01min\u001b[39;00m casted_key)\n\u001b[1;32m   3810\u001b[0m     ):\n\u001b[1;32m   3811\u001b[0m         \u001b[38;5;28;01mraise\u001b[39;00m InvalidIndexError(key)\n\u001b[0;32m-> 3812\u001b[0m     \u001b[38;5;28;01mraise\u001b[39;00m \u001b[38;5;167;01mKeyError\u001b[39;00m(key) \u001b[38;5;28;01mfrom\u001b[39;00m\u001b[38;5;250m \u001b[39m\u001b[38;5;21;01merr\u001b[39;00m\n\u001b[1;32m   3813\u001b[0m \u001b[38;5;28;01mexcept\u001b[39;00m \u001b[38;5;167;01mTypeError\u001b[39;00m:\n\u001b[1;32m   3814\u001b[0m     \u001b[38;5;66;03m# If we have a listlike key, _check_indexing_error will raise\u001b[39;00m\n\u001b[1;32m   3815\u001b[0m     \u001b[38;5;66;03m#  InvalidIndexError. Otherwise we fall through and re-raise\u001b[39;00m\n\u001b[1;32m   3816\u001b[0m     \u001b[38;5;66;03m#  the TypeError.\u001b[39;00m\n\u001b[1;32m   3817\u001b[0m     \u001b[38;5;28mself\u001b[39m\u001b[38;5;241m.\u001b[39m_check_indexing_error(key)\n",
      "\u001b[0;31mKeyError\u001b[0m: 'registered_on'"
     ]
    }
   ],
   "source": [
    "users['registered_on'].dt.year.value_counts().sort_index().plot(kind=\"bar\")\n",
    "plt.title(\"User Registrations Per Year\")\n"
   ]
  },
  {
   "cell_type": "markdown",
   "metadata": {},
   "source": [
    "The only numerical data we can *describe* in the registration date."
   ]
  },
  {
   "cell_type": "code",
   "execution_count": null,
   "metadata": {},
   "outputs": [],
   "source": [
    "df['registered_on'].describe()\n"
   ]
  },
  {
   "cell_type": "markdown",
   "metadata": {},
   "source": [
    "---\n",
    "\n",
    "@todo Define next steps of this exploraty analysis"
   ]
  },
  {
   "cell_type": "markdown",
   "id": "cad5f2da",
   "metadata": {},
   "source": [
    "### Cleaning\n",
    "\n",
    "There is a lot of empty values in this dataset."
   ]
  },
  {
   "cell_type": "code",
   "execution_count": null,
   "id": "f503c644",
   "metadata": {},
   "outputs": [
    {
     "data": {
      "text/plain": [
       "id                     0\n",
       "title                  0\n",
       "fname            1609139\n",
       "lname            1620054\n",
       "created                0\n",
       "da_membership    2090968\n",
       "slack            2090244\n",
       "mentors                0\n",
       "countries              0\n",
       "language         2080667\n",
       "languages              0\n",
       "timezone         1425587\n",
       "region           1426273\n",
       "city             1426273\n",
       "organizations          0\n",
       "industries       2093637\n",
       "contributions          0\n",
       "events                 0\n",
       "dtype: int64"
      ]
     },
     "execution_count": 12,
     "metadata": {},
     "output_type": "execute_result"
    }
   ],
   "source": [
    "users.isnull().sum()\n"
   ]
  },
  {
   "cell_type": "markdown",
   "id": "c26d5162",
   "metadata": {},
   "source": [
    "We can normalize empty data using `None` and get proper datetime values for the registration date."
   ]
  },
  {
   "cell_type": "code",
   "execution_count": null,
   "id": "e33d3123",
   "metadata": {},
   "outputs": [
    {
     "ename": "NameError",
     "evalue": "name 'pd' is not defined",
     "output_type": "error",
     "traceback": [
      "\u001b[0;31m---------------------------------------------------------------------------\u001b[0m",
      "\u001b[0;31mNameError\u001b[0m                                 Traceback (most recent call last)",
      "Cell \u001b[0;32mIn[16], line 2\u001b[0m\n\u001b[1;32m      1\u001b[0m \u001b[38;5;66;03m# Cleaning data.\u001b[39;00m\n\u001b[0;32m----> 2\u001b[0m users \u001b[38;5;241m=\u001b[39m users\u001b[38;5;241m.\u001b[39mreplace({\u001b[43mpd\u001b[49m\u001b[38;5;241m.\u001b[39mNA: \u001b[38;5;28;01mNone\u001b[39;00m})\n\u001b[1;32m      4\u001b[0m \u001b[38;5;66;03m# Replace empty arrays with None.\u001b[39;00m\n\u001b[1;32m      5\u001b[0m \u001b[38;5;28;01mfor\u001b[39;00m col \u001b[38;5;129;01min\u001b[39;00m users\u001b[38;5;241m.\u001b[39mcolumns:\n",
      "\u001b[0;31mNameError\u001b[0m: name 'pd' is not defined"
     ]
    }
   ],
   "source": [
    "# Cleaning data.\n",
    "df = df.replace({pd.NA: None})\n",
    "\n",
    "# Replace empty arrays with None.\n",
    "for col in df.columns:\n",
    "    if df[col].dtype == 'O':\n",
    "        df[col] = df[col].apply(lambda x: None if (\n",
    "            x is None or len(x) == 0) else x)\n"
   ]
  },
  {
   "cell_type": "code",
   "execution_count": null,
   "id": "f394a4a9",
   "metadata": {},
   "outputs": [],
   "source": [
    "import datetime\n",
    "\n",
    "# Add formatted registration date.\n",
    "if 'registered_on' not in df.columns:\n",
    "    df['registered_on'] = df['created'].apply(\n",
    "        lambda d: datetime.datetime.fromtimestamp(d))\n"
   ]
  },
  {
   "cell_type": "markdown",
   "id": "c9535af8",
   "metadata": {},
   "source": [
    "Now let's take a look at the actual data:"
   ]
  },
  {
   "cell_type": "code",
   "execution_count": null,
   "id": "024e191c",
   "metadata": {},
   "outputs": [],
   "source": [
    "df.head()\n"
   ]
  },
  {
   "cell_type": "markdown",
   "id": "ab5d2581",
   "metadata": {},
   "source": [
    "The only numerical data we can *describe* in the registration date."
   ]
  },
  {
   "cell_type": "code",
   "execution_count": null,
   "id": "122e2666",
   "metadata": {},
   "outputs": [],
   "source": [
    "df['registered_on'].describe()\n"
   ]
  }
 ],
 "metadata": {
  "kernelspec": {
   "display_name": "drucom",
   "language": "python",
   "name": "python3"
  },
  "language_info": {
   "codemirror_mode": {
    "name": "ipython",
    "version": 3
   },
   "file_extension": ".py",
   "mimetype": "text/x-python",
   "name": "python",
   "nbconvert_exporter": "python",
   "pygments_lexer": "ipython3",
   "version": "3.10.6"
  }
 },
 "nbformat": 4,
 "nbformat_minor": 5
}
