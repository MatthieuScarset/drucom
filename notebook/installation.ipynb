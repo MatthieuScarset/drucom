{
 "cells": [
  {
   "cell_type": "markdown",
   "id": "832c92b6",
   "metadata": {},
   "source": [
    "# Getting started "
   ]
  },
  {
   "cell_type": "markdown",
   "id": "60f5cc1a",
   "metadata": {},
   "source": [
    "This notebook serves as an interface to trigger scripts in charge of fetching our data."
   ]
  },
  {
   "cell_type": "code",
   "execution_count": null,
   "id": "105a5fb8",
   "metadata": {},
   "outputs": [],
   "source": [
    "import pandas as pd\n"
   ]
  },
  {
   "cell_type": "markdown",
   "id": "b999e8f3",
   "metadata": {},
   "source": [
    "Timeline of significant Drupal core releases was compiled manually [from this page](https://www.drupal.org/about/core/policies/core-release-cycles/schedule#s-past-milestones). Here's a copy of the dataset for reference:\n",
    "\n",
    "```\n",
    "'date','name','version','type','importance'\n",
    "'19/11/2015','Drupal 8.0.0 released','8.0.0','release','major'\n",
    "'24/01/2016','Drupal 6 End-of-life',6.x,'eol','major'\n",
    "'03/06/2020','Drupal 9.0.0 released','9.0.0','release','major'\n",
    "'03/06/2020','Drupal 8.9 released','8.9','release','minor'\n",
    "'17/11/2021','Drupal 8 End-of-life','8.x','eol','major'\n",
    "'15/12/2022','Drupal 10.0.0 released','10.0.0','release','major'\n",
    "'15/12/2022','Drupal 9.5.0 released','9.5.0','release','minor'\n",
    "'22/06/2023','Drupal 10.1.0 released','10.1.0','release','minor'\n",
    "'01/11/2023','Drupal 9 End-of-life','9.x','eol','major'\n",
    "'15/12/2023','Drupal 10.2.0 released','10.2.0','release','minor'\n",
    "'20/06/2024','Drupal 10.3.0 released','10.3.0','release','minor'\n",
    "'02/08/2024','Drupal 11.0.0 released','11.0.0','release','major'\n",
    "'01/01/2025','Drupal 7 End-of-life','7.x','eol','major'\n",
    "'15/01/2025','Drupal CMS 1.0.0 released','1.0.0','release','major'\n",
    "'01/06/2026','Drupal 10 End-of-life','10.x','eol','major'\n",
    "'01/06/2026','Drupal 12 released','12.0.','release','major'\n",
    "```"
   ]
  },
  {
   "cell_type": "code",
   "execution_count": null,
   "id": "c9238475",
   "metadata": {},
   "outputs": [],
   "source": [
    "df = pd.read_csv('../data/csv/core_releases.csv')\n",
    "df.to_parquet('../data/release.parquet', index=False)\n"
   ]
  },
  {
   "cell_type": "markdown",
   "id": "b0ce82e9",
   "metadata": {},
   "source": [
    "## Drupal.org REST API"
   ]
  },
  {
   "cell_type": "markdown",
   "id": "06eaf18f",
   "metadata": {},
   "source": [
    "@todo ..."
   ]
  }
 ],
 "metadata": {
  "kernelspec": {
   "display_name": "drucom",
   "language": "python",
   "name": "python3"
  },
  "language_info": {
   "codemirror_mode": {
    "name": "ipython",
    "version": 3
   },
   "file_extension": ".py",
   "mimetype": "text/x-python",
   "name": "python",
   "nbconvert_exporter": "python",
   "pygments_lexer": "ipython3",
   "version": "3.10.6"
  }
 },
 "nbformat": 4,
 "nbformat_minor": 5
}
