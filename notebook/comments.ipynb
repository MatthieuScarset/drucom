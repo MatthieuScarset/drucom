{
 "cells": [
  {
   "cell_type": "markdown",
   "id": "aeefc495",
   "metadata": {},
   "source": [
    "# Fetch comments"
   ]
  },
  {
   "cell_type": "code",
   "execution_count": null,
   "id": "4733c5c7",
   "metadata": {},
   "outputs": [],
   "source": [
    "import re\n",
    "import requests\n",
    "import json\n",
    "import pandas as pd\n"
   ]
  },
  {
   "cell_type": "code",
   "execution_count": null,
   "id": "040bbff2",
   "metadata": {},
   "outputs": [],
   "source": [
    "BASE_URL = \"https://www.drupal.org/api-d7\"\n",
    "HEADERS = {\n",
    "    'Accept': 'application/json',\n",
    "    'Content-Type': 'application/json',\n",
    "    'User-Agent': 'Drucom 0.1.0'\n",
    "}\n",
    "\n",
    "\n",
    "def check_comment_total(uid):\n",
    "    \"\"\"\n",
    "    Given a list of user IDs, check the total number of comments for each user.\n",
    "    \"\"\"\n",
    "    params = {\n",
    "        'full': 0,\n",
    "        'limit': 1,\n",
    "        'sort': 'cid',\n",
    "        'direction': 'ASC',\n",
    "    }\n",
    "    params['author'] = uid\n",
    "\n",
    "    total = 0\n",
    "\n",
    "    try:\n",
    "        response = requests.get(\n",
    "            f\"{BASE_URL}/comment.json\", headers=HEADERS, params=params)\n",
    "        response.raise_for_status()\n",
    "        data = response.json()\n",
    "        last_page_url = data.get('last', '')\n",
    "        total = 0\n",
    "        if last_page_url:\n",
    "            match = re.search(r'page=(\\d+)', last_page_url)\n",
    "            if match:\n",
    "                total = int(match.group(1))\n",
    "    except Exception as e:\n",
    "        print(f\"Unexpected error for UID {uid}: {e}\")\n",
    "\n",
    "    print(f\"User {uid} has {total} pages of comments.\")\n",
    "    return total\n"
   ]
  },
  {
   "cell_type": "code",
   "execution_count": null,
   "id": "ccd7699c",
   "metadata": {},
   "outputs": [
    {
     "name": "stdout",
     "output_type": "stream",
     "text": [
      "UID 1 has 19090 pages of comments.\n",
      "UID 2 has 605 pages of comments.\n",
      "UID 3 has 0 pages of comments.\n",
      "Fetched user IDs with comments.\n"
     ]
    }
   ],
   "source": [
    "uids = json.load(open('../data/json/uids.json', 'r'))\n",
    "\n",
    "user_with_comments = {\n",
    "    'uid': [],\n",
    "    'total': [],\n",
    "}\n",
    "for uid in uids:\n",
    "    try:\n",
    "        total = check_comment_total(uid)\n",
    "        if total > 0:\n",
    "            user_with_comments['uid'].append(uid)\n",
    "            user_with_comments['total'].append(total)\n",
    "    except Exception as e:\n",
    "        print(f\"Error processing UID {uid}: {e}\")\n",
    "\n",
    "df = pd.DataFrame(user_with_comments, columns=['uid', 'total'])\n",
    "df.to_csv('user_with_comments.csv', index=False)\n",
    "print('Fetched user IDs with comments.')\n"
   ]
  }
 ],
 "metadata": {
  "kernelspec": {
   "display_name": "drucom",
   "language": "python",
   "name": "python3"
  },
  "language_info": {
   "codemirror_mode": {
    "name": "ipython",
    "version": 3
   },
   "file_extension": ".py",
   "mimetype": "text/x-python",
   "name": "python",
   "nbconvert_exporter": "python",
   "pygments_lexer": "ipython3",
   "version": "3.10.6"
  }
 },
 "nbformat": 4,
 "nbformat_minor": 5
}
