{
 "cells": [
  {
   "cell_type": "markdown",
   "id": "aeefc495",
   "metadata": {},
   "source": [
    "# Fetch comments"
   ]
  },
  {
   "cell_type": "code",
   "execution_count": null,
   "id": "4733c5c7",
   "metadata": {},
   "outputs": [],
   "source": [
    "import os\n",
    "import pandas as pd\n",
    "\n",
    "# Convert the dictionary to a DataFrame\n",
    "all_data = pd.DataFrame()\n",
    "for i in range(1, 2094):\n",
    "    file = f'../data/json/comment/page_{i}.json'\n",
    "    data = pd.read_json(file, typ='series').to_dict()\n",
    "    df = pd.DataFrame.from_dict(data, orient='index')\n",
    "    df.reset_index(inplace=True)\n",
    "    df.rename(columns={'index': 'uid'}, inplace=True)\n",
    "    all_data = pd.concat([all_data, df], ignore_index=True)\n",
    "all_data.reset_index(drop=True, inplace=True)\n",
    "all_data.to_parquet('../data/comments.parquet')\n"
   ]
  },
  {
   "cell_type": "code",
   "execution_count": null,
   "id": "df8aacb6",
   "metadata": {},
   "outputs": [
    {
     "name": "stdout",
     "output_type": "stream",
     "text": []
    }
   ],
   "source": [
    "comments = pd.read_parquet('../data/comments.parquet')\n",
    "comments.head()\n"
   ]
  },
  {
   "cell_type": "code",
   "execution_count": null,
   "id": "47c65814",
   "metadata": {},
   "outputs": [
    {
     "name": "stdout",
     "output_type": "stream",
     "text": []
    }
   ],
   "source": [
    "users_with_comments = comments.copy()[comments['total'] > 0]\n",
    "users_with_comments.rename(columns={'total': 'comments'}, inplace=True)\n",
    "users_with_comments\n"
   ]
  },
  {
   "cell_type": "code",
   "execution_count": null,
   "id": "8b063885",
   "metadata": {},
   "outputs": [
    {
     "name": "stdout",
     "output_type": "stream",
     "text": []
    }
   ],
   "source": [
    "total_rows, _ = comments.shape\n",
    "comment_rows, _ = users_with_comments.shape\n",
    "comments_rate = '{:.2f}%'.format((comment_rows / total_rows * 100))\n",
    "f\"{comments_rate} of all user have ever made at least one comment on d.o ({comment_rows} of {total_rows})\"\n"
   ]
  },
  {
   "cell_type": "code",
   "execution_count": null,
   "id": "933757b1",
   "metadata": {},
   "outputs": [
    {
     "name": "stdout",
     "output_type": "stream",
     "text": []
    }
   ],
   "source": [
    "# Merge comments with users\n",
    "users = pd.read_parquet('../data/user.parquet')\n",
    "users.rename(columns={'id': 'uid'}, inplace=True)\n",
    "users.head()\n"
   ]
  },
  {
   "cell_type": "code",
   "execution_count": null,
   "id": "d580b6e1",
   "metadata": {},
   "outputs": [
    {
     "name": "stdout",
     "output_type": "stream",
     "text": []
    }
   ],
   "source": [
    "df = pd.merge(users_with_comments, users, on='uid', how='left')\n",
    "\n",
    "# Remove the system_message bot user.\n",
    "system_message_uid = 180064\n",
    "df = df[df['uid'] != system_message_uid]\n",
    "df\n"
   ]
  },
  {
   "cell_type": "code",
   "execution_count": null,
   "id": "064db9d7",
   "metadata": {},
   "outputs": [
    {
     "name": "stdout",
     "output_type": "stream",
     "text": []
    },
    {
     "name": "stdout",
     "output_type": "stream",
     "text": []
    }
   ],
   "source": [
    "df.groupby('region')['comments'].count()\\\n",
    "    .plot(kind='bar', color='blue', legend=False, title='Commentors per Region (at least 3 comments)')\n"
   ]
  },
  {
   "cell_type": "code",
   "execution_count": null,
   "id": "1dbd65c6",
   "metadata": {},
   "outputs": [
    {
     "name": "stdout",
     "output_type": "stream",
     "text": []
    }
   ],
   "source": [
    "# Top commentors\n",
    "top = df.nlargest(100, 'comments')\n",
    "top\n"
   ]
  }
 ],
 "metadata": {
  "kernelspec": {
   "display_name": "drucom",
   "language": "python",
   "name": "python3"
  },
  "language_info": {
   "codemirror_mode": {
    "name": "ipython",
    "version": 3
   },
   "file_extension": ".py",
   "mimetype": "text/x-python",
   "name": "python",
   "nbconvert_exporter": "python",
   "pygments_lexer": "ipython3",
   "version": "3.10.6"
  }
 },
 "nbformat": 4,
 "nbformat_minor": 5
}
